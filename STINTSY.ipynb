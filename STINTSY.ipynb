{
 "cells": [
  {
   "cell_type": "markdown",
   "metadata": {
    "cell_id": "11023c06d0b6478d8f5694e4aa6a1c52",
    "deepnote_cell_type": "text-cell-h1",
    "formattedRanges": [],
    "is_collapsed": false,
    "tags": []
   },
   "source": [
    "# "
   ]
  },
  {
   "cell_type": "markdown",
   "metadata": {
    "cell_id": "a561ad8d4f5f4088ae4d4c10264cc7fa",
    "deepnote_cell_type": "text-cell-h1",
    "formattedRanges": [],
    "is_collapsed": false,
    "tags": []
   },
   "source": [
    "# Machine Project"
   ]
  },
  {
   "cell_type": "markdown",
   "metadata": {
    "cell_id": "2fca05038af5445da3a910c6161e50db",
    "deepnote_cell_height": 120.171875,
    "deepnote_cell_type": "markdown",
    "tags": []
   },
   "source": [
    "\n",
    "\n",
    "- **HERNANDEZ**, Tedrick James B.\n",
    "- **MAGLAQUE**, Jose III\n",
    "- **NARVAEZ**, Jose Wilfredo"
   ]
  },
  {
   "cell_type": "markdown",
   "metadata": {
    "cell_id": "6d238ddfb1a44419bfc6032e21a942f5",
    "deepnote_cell_type": "text-cell-h1",
    "formattedRanges": [],
    "is_collapsed": false,
    "owner_user_id": "f5a8ef67-f0e0-49a6-9600-01c521be23e6",
    "tags": []
   },
   "source": [
    "# Introduction to Datasets"
   ]
  },
  {
   "cell_type": "markdown",
   "metadata": {
    "cell_id": "61a5c53704fc414ca3954fd40c21c9e4",
    "deepnote_cell_type": "text-cell-h3",
    "formattedRanges": [],
    "is_collapsed": false,
    "tags": []
   },
   "source": [
    "### List of Python Libraries used in this Notebook"
   ]
  },
  {
   "cell_type": "markdown",
   "metadata": {
    "cell_id": "deb4c37f4d8e40d0be2164cc3eeb92af",
    "deepnote_cell_height": 348.6875,
    "deepnote_cell_type": "markdown",
    "tags": []
   },
   "source": [
    "- pandas\n",
    "- numpy\n",
    "- sklearn \n",
    "- sklearn.naive_bayes \n",
    "- sklearn.linear_model \n",
    "- sklearn.neighbors \n",
    "- sklearn.metrics \n",
    "- sklearn.tree \n",
    "- sklearn.ensemble \n",
    "- sklearn.model_selection \n",
    "- sklearn.model_selection \n",
    "- sklearn.linear_model "
   ]
  },
  {
   "cell_type": "markdown",
   "metadata": {
    "cell_id": "2b74a63251fb4ccbb6da9e3fd191ef2b",
    "deepnote_cell_type": "text-cell-h2",
    "formattedRanges": [],
    "is_collapsed": false,
    "tags": []
   },
   "source": [
    "## Overview"
   ]
  },
  {
   "cell_type": "markdown",
   "metadata": {
    "cell_id": "733cce2c0dd745d48b763c3ebda3775a",
    "deepnote_cell_height": 74.78125,
    "deepnote_cell_type": "markdown",
    "tags": []
   },
   "source": [
    "For this project, we explored the **NBA games data** dataset series from [*Kaggle*](https://www.kaggle.com/datasets/nathanlauga/nba-games). This is a group of **five (5) data sets** collated by Nathan Lauga, derived from the official NBA website."
   ]
  },
  {
   "cell_type": "markdown",
   "metadata": {
    "cell_id": "68ee5a863c9648759f5368fa666e8596",
    "deepnote_cell_height": 74.78125,
    "deepnote_cell_type": "markdown",
    "tags": []
   },
   "source": [
    "The data sets primarily contain **data about professional games played in the National Basketball Association (NBA) from 2004 to 2021**. Some of these data include **team data**, **player data**, **performance data** (such as points scored), and the like."
   ]
  },
  {
   "cell_type": "markdown",
   "metadata": {
    "cell_id": "b3ae2f5dd3a044ecae3945424077ed09",
    "deepnote_cell_height": 204.34375,
    "deepnote_cell_type": "markdown",
    "tags": []
   },
   "source": [
    "The five (5) data sets are as follows:\n",
    "\n",
    "1. `games.csv` - contains game data like **dates**, **teams**, **number of points**, etc\n",
    "2. `games_details.csv` - contains more specific game data such as **performance metrics** per player\n",
    "3. `players.csv` - contains player details such as **name**, **year played**, etc.\n",
    "4. `ranking.csv` - contains ranking data such as **placements of NBA teams in a particular day**, etc.\n",
    "5. `teams.csv` - contains team data such as **team names**, **founding dates**, **team nicknames**, etc."
   ]
  },
  {
   "cell_type": "markdown",
   "metadata": {
    "cell_id": "c741a2f3e87f46f0a84591e21767d63f",
    "deepnote_cell_height": 52.390625,
    "deepnote_cell_type": "markdown",
    "tags": []
   },
   "source": [
    "We set aside the `players.csv`, `ranking.csv`, and `teams.csv` data sets as they are not going to be used by the model for learning."
   ]
  },
  {
   "cell_type": "markdown",
   "metadata": {
    "cell_id": "c09b3be5f57b4f2d983ca0a2380f1ffa",
    "deepnote_cell_type": "text-cell-h2",
    "formattedRanges": [],
    "is_collapsed": false,
    "tags": []
   },
   "source": [
    "## Rationale"
   ]
  },
  {
   "cell_type": "markdown",
   "metadata": {
    "cell_id": "19db2aca4144448fb900083dc91d4d74",
    "deepnote_cell_height": 97.171875,
    "deepnote_cell_type": "markdown",
    "tags": []
   },
   "source": [
    "Using `games.csv`, `games_details.csv`, and `players.csv`, we intend to closely examine the manner by which **Most Valuable Player (MVP)** nominations are made. In summary, specifically, we would like to investigate if a machine learning model can make **accurate MVP nominations** based on various handlings of given statistics per player per season."
   ]
  },
  {
   "cell_type": "markdown",
   "metadata": {
    "cell_id": "5dc5f116584e44ed971bfe89891b91da",
    "deepnote_cell_height": 97.171875,
    "deepnote_cell_type": "markdown",
    "tags": []
   },
   "source": [
    "The **NBA Most Valuable Player (MVP) Award** is an annual award given to the \"best player\" of a given NBA season. The awardee is chosen by a panel of judges who are asked to rank their individual \"best player\" picks from ranks 1 to 5. Each given rank placement has a corresponding number of points. The award is given to the player who accumulated the most number of points."
   ]
  },
  {
   "cell_type": "markdown",
   "metadata": {
    "cell_id": "b58b82cbf68d4a13ab12a3792783c6fb",
    "deepnote_cell_height": 226.734375,
    "deepnote_cell_type": "markdown",
    "tags": []
   },
   "source": [
    "Each rank placement vote has a corresponding number of points:\n",
    "\n",
    "- **Rank 1 / 1st Place:** 10 points\n",
    "- **Rank 2 / 2nd Place:** 7 points\n",
    "- **Rank 3 / 3rd Place:** 5 points\n",
    "- **Rank 4 / 4th Place:** 3 points\n",
    "- **Rank 5 / 5th Place:** 1 point\n",
    "\n",
    "A player who has incurred **at least one (1) MVP point** is considered an **MVP nominee**."
   ]
  },
  {
   "cell_type": "markdown",
   "metadata": {
    "cell_id": "82dfa19ed6b6413e9718b19b15fd8939",
    "deepnote_cell_height": 74.78125,
    "deepnote_cell_type": "markdown",
    "tags": []
   },
   "source": [
    "The judging panel is composed of a series of **sportswriters** and **broadcasters** all across the U.S. and Canada, hand-picked by the NBA. The manner of vote-casting is not held to certain rubrics or rigid guidelines; most are accomplished up to the judges' individual evaluations."
   ]
  },
  {
   "cell_type": "markdown",
   "metadata": {
    "cell_id": "411baac2b9304ea7a9079915a69680f3",
    "deepnote_cell_height": 97.171875,
    "deepnote_cell_type": "markdown",
    "tags": []
   },
   "source": [
    "Our model aspires to predict if a given player is going to be an **MVP nominee**, wherein they will have **at least one (1) MVP point**, given their present statistics in a given period during the season. This model explores the relationship between a **player's performance metrics** and their **likelihood of becoming nominated for the MVP award**."
   ]
  },
  {
   "cell_type": "markdown",
   "metadata": {
    "cell_id": "aba4440e78494d46b50207bdae39ff85",
    "deepnote_cell_type": "text-cell-h1",
    "formattedRanges": [],
    "is_collapsed": false,
    "tags": []
   },
   "source": [
    "# Preprocessing"
   ]
  },
  {
   "cell_type": "markdown",
   "metadata": {
    "cell_id": "846621c385ab49d0b34c7e41d7a4b571",
    "deepnote_cell_height": 52.390625,
    "deepnote_cell_type": "markdown",
    "tags": []
   },
   "source": [
    "There are a number of adjustments and manipulations required to prime our data sets for machine learning."
   ]
  },
  {
   "cell_type": "markdown",
   "metadata": {
    "cell_id": "d6f4683819c54d4eb3de51b61ebbf83a",
    "deepnote_cell_height": 70,
    "deepnote_cell_type": "markdown",
    "tags": []
   },
   "source": [
    "## Loading of File to DataFrame"
   ]
  },
  {
   "cell_type": "markdown",
   "metadata": {
    "cell_id": "825e3e18dd304f7abcc45e3f57d231a3",
    "deepnote_cell_height": 52.390625,
    "deepnote_cell_type": "markdown",
    "tags": []
   },
   "source": [
    "First, let's load `games_details.csv` and `games.csv` as data frames."
   ]
  },
  {
   "cell_type": "code",
   "execution_count": null,
   "metadata": {
    "cell_id": "281a2406a0fa4f92b01a8e0cdcaeff01",
    "deepnote_cell_height": 486.625,
    "deepnote_cell_type": "code",
    "deepnote_to_be_reexecuted": false,
    "execution_millis": 16523,
    "execution_start": 1656852235175,
    "source_hash": "89571281",
    "tags": []
   },
   "outputs": [],
   "source": [
    "# Loading of Data\n",
    "import pandas as pd\n",
    "gamedetails_df = pd.read_csv('games_details.csv')\n",
    "games_df = pd.read_csv('games.csv')\n",
    "\n",
    "print(games_df.head().to_string()) \n",
    "print(gamedetails_df.head().to_string()) "
   ]
  },
  {
   "cell_type": "markdown",
   "metadata": {
    "cell_id": "0461bc450f2e489384c4eab4d31865d1",
    "deepnote_cell_height": 74.78125,
    "deepnote_cell_type": "markdown",
    "tags": []
   },
   "source": [
    "Here we reinitialize the dataframes so that they only contain the features we will need for learning. The variables that we dropped are not needed or won't help our model at all."
   ]
  },
  {
   "cell_type": "code",
   "execution_count": null,
   "metadata": {
    "cell_id": "7ff70aab20fc4c2b99a54fa91a49e118",
    "deepnote_cell_height": 428.25,
    "deepnote_cell_type": "code",
    "deepnote_to_be_reexecuted": false,
    "execution_millis": 155,
    "execution_start": 1656852254682,
    "source_hash": "eba111c3",
    "tags": []
   },
   "outputs": [],
   "source": [
    "games_df = games_df[[\"GAME_ID\", \"SEASON\"]]\n",
    "gamedetails_df = gamedetails_df[[\"GAME_ID\", \"PLAYER_NAME\", \"MIN\", \"FGM\", \"FG_PCT\", \"FG3M\", \"FG3A\",\"FTM\", \"FTA\", \"FT_PCT\", \"OREB\", \"DREB\", \"REB\", \"AST\", \"STL\", \"BLK\", \"TO\", \"PF\", \"PTS\", \"PLUS_MINUS\"]]\n",
    "\n",
    "print(games_df.head().to_string()) \n",
    "print(gamedetails_df.head().to_string()) \n"
   ]
  },
  {
   "cell_type": "markdown",
   "metadata": {
    "cell_id": "f6391866fe27470bb78b4c604de0b689",
    "deepnote_cell_type": "text-cell-h2",
    "formattedRanges": [],
    "is_collapsed": false,
    "tags": []
   },
   "source": [
    "## Merge dataframes by GAME_ID"
   ]
  },
  {
   "cell_type": "markdown",
   "metadata": {
    "cell_id": "7de15a4bb0754129a7cd11c912ca57a4",
    "deepnote_cell_height": 74.78125,
    "deepnote_cell_type": "markdown",
    "tags": []
   },
   "source": [
    "Then, for further use, we tidy things up further by merging the data frames by `GAME_ID`. We merge the two datasets so that we know what season that specific game was done in."
   ]
  },
  {
   "cell_type": "code",
   "execution_count": null,
   "metadata": {
    "cell_id": "a67bd1cd725d4e1098ed1e0170bea893",
    "deepnote_cell_height": 442.25,
    "deepnote_cell_type": "code",
    "deepnote_to_be_reexecuted": false,
    "execution_millis": 1234,
    "execution_start": 1656852259099,
    "source_hash": "85197131",
    "tags": []
   },
   "outputs": [],
   "source": [
    "merged = pd.merge(games_df, gamedetails_df, how='inner')\n",
    "merged['PLAYER_NAME'] = merged['PLAYER_NAME'] + \" \" + merged['SEASON'].map(str)\n",
    "merged['MIN'] = merged['MIN'].map(lambda x: (str(x).split(':')[0]))\n",
    "merged['MIN'] = merged['MIN'].map(lambda x: float(x))\n",
    "#print(merged.head().to_string())\n",
    "#print(merged[\"SEASON\"].unique())\n",
    "print(merged['PLAYER_NAME'])"
   ]
  },
  {
   "cell_type": "markdown",
   "metadata": {
    "cell_id": "82995053884247de82df204f330b430c",
    "deepnote_cell_height": 52.390625,
    "deepnote_cell_type": "markdown",
    "tags": []
   },
   "source": [
    "We drop rows that contain NA values because NA values won't be necessary for our learning."
   ]
  },
  {
   "cell_type": "code",
   "execution_count": null,
   "metadata": {
    "cell_id": "30ff275229d743d495c4c682ce53f928",
    "deepnote_cell_height": 430.8125,
    "deepnote_cell_type": "code",
    "deepnote_to_be_reexecuted": false,
    "execution_millis": 885,
    "execution_start": 1656852263666,
    "source_hash": "5557e152",
    "tags": []
   },
   "outputs": [],
   "source": [
    "merged = merged.dropna()\n",
    "merged = merged.dropna(axis=0)\n",
    "print(merged.head())"
   ]
  },
  {
   "cell_type": "markdown",
   "metadata": {
    "cell_id": "3840c4f9b2924f9ab42f25c962478bcb",
    "deepnote_cell_type": "text-cell-h2",
    "formattedRanges": [],
    "is_collapsed": false,
    "tags": []
   },
   "source": [
    "## Split dataframes by SEASON"
   ]
  },
  {
   "cell_type": "markdown",
   "metadata": {
    "cell_id": "5bb5e5c2948c479884462068a771f1d0",
    "deepnote_cell_height": 52.390625,
    "deepnote_cell_type": "markdown",
    "tags": []
   },
   "source": [
    "Since the award is given per season, it is important that we delimit to seasons as well."
   ]
  },
  {
   "cell_type": "code",
   "execution_count": null,
   "metadata": {
    "cell_id": "877cfffcde0b420cb4d6d6887e5f26e5",
    "deepnote_cell_height": 993,
    "deepnote_cell_type": "code",
    "deepnote_table_loading": false,
    "deepnote_table_state": {
     "filters": [],
     "pageIndex": 2328,
     "pageSize": 10,
     "sortBy": []
    },
    "deepnote_to_be_reexecuted": false,
    "execution_millis": 308,
    "execution_start": 1656852266476,
    "source_hash": "186a3ccc",
    "tags": []
   },
   "outputs": [],
   "source": [
    "twentyone = merged.loc[merged['SEASON'] == 2021]\n",
    "twenty = merged.loc[merged['SEASON'] == 2020]\n",
    "nineteen = merged.loc[merged['SEASON'] == 2019]\n",
    "thirteen = merged.loc[merged['SEASON'] == 2013]\n",
    "eleven = merged.loc[merged['SEASON'] == 2011]\n",
    "ten = merged.loc[merged['SEASON'] == 2010]\n",
    "nine = merged.loc[merged['SEASON'] == 2009]\n",
    "eight = merged.loc[merged['SEASON'] == 2008]\n",
    "seven = merged.loc[merged['SEASON'] == 2007]\n",
    "six = merged.loc[merged['SEASON'] == 2006]\n",
    "five = merged.loc[merged['SEASON'] == 2005]\n",
    "four = merged.loc[merged['SEASON'] == 2004]\n",
    "three = merged.loc[merged['SEASON'] == 2003]\n",
    "eighteen = merged.loc[merged['SEASON'] == 2018]\n",
    "seventeen = merged.loc[merged['SEASON'] == 2017]\n",
    "sixteen = merged.loc[merged['SEASON'] == 2016]\n",
    "fifteen = merged.loc[merged['SEASON'] == 2015]\n",
    "fourteen = merged.loc[merged['SEASON'] == 2014]\n",
    "twelve = merged.loc[merged['SEASON'] == 2012]\n",
    "\n",
    "twentyone\n"
   ]
  },
  {
   "cell_type": "markdown",
   "metadata": {
    "cell_id": "0f3c3fc3e23541de87ead15a0161f042",
    "deepnote_cell_type": "text-cell-h1",
    "formattedRanges": [],
    "is_collapsed": false,
    "tags": []
   },
   "source": [
    "# Feature Engineering"
   ]
  },
  {
   "cell_type": "markdown",
   "metadata": {
    "cell_id": "2e20522b60654d95ae069bd6504a5f20",
    "deepnote_cell_height": 52.390625,
    "deepnote_cell_type": "markdown",
    "tags": []
   },
   "source": [
    "We have identified a variety of crucial features that can be extracted from our data. We do these in the following processes below."
   ]
  },
  {
   "cell_type": "markdown",
   "metadata": {
    "cell_id": "6c8fd5a4694949dcae355718d17e4208",
    "deepnote_cell_type": "text-cell-h2",
    "formattedRanges": [],
    "is_collapsed": false,
    "tags": []
   },
   "source": [
    "## Averaging scores per SEASON"
   ]
  },
  {
   "cell_type": "markdown",
   "metadata": {
    "cell_id": "631632f845ec4ff18505dfb32eefe5a8",
    "deepnote_cell_height": 97.171875,
    "deepnote_cell_type": "markdown",
    "tags": []
   },
   "source": [
    "Here we get the mean scores of each feature for each player in a season. The group considered using sums, however, not all the players played the same number of games as other players which would result in a big gap of values even if the aforementioned player played well. The use of the mean would help capture the average overall performace of a player in a season."
   ]
  },
  {
   "cell_type": "code",
   "execution_count": null,
   "metadata": {
    "cell_id": "362633ea3ed244c7985b5be586397cf3",
    "deepnote_cell_height": 993,
    "deepnote_cell_type": "code",
    "deepnote_table_loading": false,
    "deepnote_table_state": {
     "filters": [],
     "pageIndex": 2,
     "pageSize": 10,
     "sortBy": []
    },
    "deepnote_to_be_reexecuted": false,
    "execution_millis": 303,
    "execution_start": 1656852270848,
    "source_hash": "b588fd5",
    "tags": []
   },
   "outputs": [],
   "source": [
    "\n",
    "twentyone = twentyone.groupby(\"PLAYER_NAME\")[[\"MIN\", \"FGM\", \"FG_PCT\", \"FG3M\", \"FG3A\",\"FTM\", \"FTA\", \"FT_PCT\", \"OREB\", \"DREB\", \"REB\", \"AST\", \"STL\", \"BLK\", \"TO\", \"PF\", \"PTS\", \"PLUS_MINUS\"]].mean();\n",
    "twenty = twenty.groupby(\"PLAYER_NAME\")[[\"MIN\", \"FGM\", \"FG_PCT\", \"FG3M\", \"FG3A\",\"FTM\", \"FTA\", \"FT_PCT\", \"OREB\", \"DREB\", \"REB\", \"AST\", \"STL\", \"BLK\", \"TO\", \"PF\", \"PTS\", \"PLUS_MINUS\"]].mean();\n",
    "nineteen = nineteen.groupby(\"PLAYER_NAME\")[[\"MIN\", \"FGM\", \"FG_PCT\", \"FG3M\", \"FG3A\",\"FTM\", \"FTA\", \"FT_PCT\", \"OREB\", \"DREB\", \"REB\", \"AST\", \"STL\", \"BLK\", \"TO\", \"PF\", \"PTS\", \"PLUS_MINUS\"]].mean();\n",
    "thirteen = thirteen.groupby(\"PLAYER_NAME\")[[\"MIN\", \"FGM\", \"FG_PCT\", \"FG3M\", \"FG3A\",\"FTM\", \"FTA\", \"FT_PCT\", \"OREB\", \"DREB\", \"REB\", \"AST\", \"STL\", \"BLK\", \"TO\", \"PF\", \"PTS\", \"PLUS_MINUS\"]].mean();\n",
    "eleven = eleven.groupby(\"PLAYER_NAME\")[[\"MIN\", \"FGM\", \"FG_PCT\", \"FG3M\", \"FG3A\",\"FTM\", \"FTA\", \"FT_PCT\", \"OREB\", \"DREB\", \"REB\", \"AST\", \"STL\", \"BLK\", \"TO\", \"PF\", \"PTS\", \"PLUS_MINUS\"]].mean();\n",
    "ten = ten.groupby(\"PLAYER_NAME\")[[\"MIN\", \"FGM\", \"FG_PCT\", \"FG3M\", \"FG3A\",\"FTM\", \"FTA\", \"FT_PCT\", \"OREB\", \"DREB\", \"REB\", \"AST\", \"STL\", \"BLK\", \"TO\", \"PF\", \"PTS\", \"PLUS_MINUS\"]].mean();\n",
    "nine = nine.groupby(\"PLAYER_NAME\")[[\"MIN\", \"FGM\", \"FG_PCT\", \"FG3M\", \"FG3A\",\"FTM\", \"FTA\", \"FT_PCT\", \"OREB\", \"DREB\", \"REB\", \"AST\", \"STL\", \"BLK\", \"TO\", \"PF\", \"PTS\", \"PLUS_MINUS\"]].mean();\n",
    "eight = eight.groupby(\"PLAYER_NAME\")[[\"MIN\", \"FGM\", \"FG_PCT\", \"FG3M\", \"FG3A\",\"FTM\", \"FTA\", \"FT_PCT\", \"OREB\", \"DREB\", \"REB\", \"AST\", \"STL\", \"BLK\", \"TO\", \"PF\", \"PTS\", \"PLUS_MINUS\"]].mean();\n",
    "seven = seven.groupby(\"PLAYER_NAME\")[[\"MIN\", \"FGM\", \"FG_PCT\", \"FG3M\", \"FG3A\",\"FTM\", \"FTA\", \"FT_PCT\", \"OREB\", \"DREB\", \"REB\", \"AST\", \"STL\", \"BLK\", \"TO\", \"PF\", \"PTS\", \"PLUS_MINUS\"]].mean();\n",
    "six = six.groupby(\"PLAYER_NAME\")[[\"MIN\", \"FGM\", \"FG_PCT\", \"FG3M\", \"FG3A\",\"FTM\", \"FTA\", \"FT_PCT\", \"OREB\", \"DREB\", \"REB\", \"AST\", \"STL\", \"BLK\", \"TO\", \"PF\", \"PTS\", \"PLUS_MINUS\"]].mean();\n",
    "five = five.groupby(\"PLAYER_NAME\")[[\"MIN\", \"FGM\", \"FG_PCT\", \"FG3M\", \"FG3A\",\"FTM\", \"FTA\", \"FT_PCT\", \"OREB\", \"DREB\", \"REB\", \"AST\", \"STL\", \"BLK\", \"TO\", \"PF\", \"PTS\", \"PLUS_MINUS\"]].mean();\n",
    "four = four.groupby(\"PLAYER_NAME\")[[\"MIN\", \"FGM\", \"FG_PCT\", \"FG3M\", \"FG3A\",\"FTM\", \"FTA\", \"FT_PCT\", \"OREB\", \"DREB\", \"REB\", \"AST\", \"STL\", \"BLK\", \"TO\", \"PF\", \"PTS\", \"PLUS_MINUS\"]].mean();\n",
    "three = three.groupby(\"PLAYER_NAME\")[[\"MIN\", \"FGM\", \"FG_PCT\", \"FG3M\", \"FG3A\",\"FTM\", \"FTA\", \"FT_PCT\", \"OREB\", \"DREB\", \"REB\", \"AST\", \"STL\", \"BLK\", \"TO\", \"PF\", \"PTS\", \"PLUS_MINUS\"]].mean();\n",
    "eighteen = eighteen.groupby(\"PLAYER_NAME\")[[\"MIN\", \"FGM\", \"FG_PCT\", \"FG3M\", \"FG3A\",\"FTM\", \"FTA\", \"FT_PCT\", \"OREB\", \"DREB\", \"REB\", \"AST\", \"STL\", \"BLK\", \"TO\", \"PF\", \"PTS\", \"PLUS_MINUS\"]].mean();\n",
    "seventeen = seventeen.groupby(\"PLAYER_NAME\")[[\"MIN\", \"FGM\", \"FG_PCT\", \"FG3M\", \"FG3A\",\"FTM\", \"FTA\", \"FT_PCT\", \"OREB\", \"DREB\", \"REB\", \"AST\", \"STL\", \"BLK\", \"TO\", \"PF\", \"PTS\", \"PLUS_MINUS\"]].mean();\n",
    "sixteen = sixteen.groupby(\"PLAYER_NAME\")[[\"MIN\", \"FGM\", \"FG_PCT\", \"FG3M\", \"FG3A\",\"FTM\", \"FTA\", \"FT_PCT\", \"OREB\", \"DREB\", \"REB\", \"AST\", \"STL\", \"BLK\", \"TO\", \"PF\", \"PTS\", \"PLUS_MINUS\"]].mean();\n",
    "fifteen = fifteen.groupby(\"PLAYER_NAME\")[[\"MIN\", \"FGM\", \"FG_PCT\", \"FG3M\", \"FG3A\",\"FTM\", \"FTA\", \"FT_PCT\", \"OREB\", \"DREB\", \"REB\", \"AST\", \"STL\", \"BLK\", \"TO\", \"PF\", \"PTS\", \"PLUS_MINUS\"]].mean();\n",
    "fourteen = fourteen.groupby(\"PLAYER_NAME\")[[\"MIN\", \"FGM\", \"FG_PCT\", \"FG3M\", \"FG3A\",\"FTM\", \"FTA\", \"FT_PCT\", \"OREB\", \"DREB\", \"REB\", \"AST\", \"STL\", \"BLK\", \"TO\", \"PF\", \"PTS\", \"PLUS_MINUS\"]].mean();\n",
    "twelve = twelve.groupby(\"PLAYER_NAME\")[[\"MIN\", \"FGM\", \"FG_PCT\", \"FG3M\", \"FG3A\",\"FTM\", \"FTA\", \"FT_PCT\", \"OREB\", \"DREB\", \"REB\", \"AST\", \"STL\", \"BLK\", \"TO\", \"PF\", \"PTS\", \"PLUS_MINUS\"]].mean();\n",
    "\n",
    "twentyone"
   ]
  },
  {
   "cell_type": "markdown",
   "metadata": {
    "cell_id": "e35024f46de2422199354f237c8d436b",
    "deepnote_cell_type": "text-cell-h2",
    "formattedRanges": [],
    "is_collapsed": false,
    "tags": []
   },
   "source": [
    "## Add ground truth labels"
   ]
  },
  {
   "cell_type": "markdown",
   "metadata": {
    "cell_id": "df015447f7c044b08fdc71db7239f1c2",
    "deepnote_cell_height": 52.390625,
    "deepnote_cell_type": "markdown",
    "tags": []
   },
   "source": [
    "Let’s set the ground truths first for each year."
   ]
  },
  {
   "cell_type": "code",
   "execution_count": null,
   "metadata": {
    "cell_id": "be163673bbd84b0b964e658cf6db3b6e",
    "deepnote_cell_height": 1011,
    "deepnote_cell_type": "code",
    "deepnote_table_invalid": false,
    "deepnote_table_loading": false,
    "deepnote_table_state": {
     "filters": [],
     "pageIndex": 24,
     "pageSize": 10,
     "sortBy": []
    },
    "deepnote_to_be_reexecuted": false,
    "execution_millis": 120,
    "execution_start": 1656852274569,
    "source_hash": "c1179ca4",
    "tags": []
   },
   "outputs": [],
   "source": [
    "twentyone['isNominated'] = False\n",
    "twenty['isNominated'] = False\n",
    "nineteen['isNominated'] = False\n",
    "thirteen['isNominated'] = False\n",
    "eleven['isNominated'] = False\n",
    "ten['isNominated'] = False\n",
    "nine['isNominated'] = False\n",
    "eight['isNominated'] = False\n",
    "seven['isNominated'] = False\n",
    "six['isNominated'] = False\n",
    "five['isNominated'] = False\n",
    "four['isNominated'] = False\n",
    "three['isNominated'] = False\n",
    "eighteen['isNominated'] = False\n",
    "seventeen['isNominated'] = False\n",
    "sixteen['isNominated'] = False\n",
    "fifteen['isNominated'] = False\n",
    "fourteen['isNominated'] = False\n",
    "twelve['isNominated'] = False\n",
    "\n",
    "seventeen\n",
    "\n"
   ]
  },
  {
   "cell_type": "markdown",
   "metadata": {
    "cell_id": "d7e7d1509420459e98d3ca34106e8337",
    "deepnote_cell_height": 74.78125,
    "deepnote_cell_type": "markdown",
    "tags": []
   },
   "source": [
    "After the ground truths have been encoded, it is time to encode the **actual nominees for the MVP award** of each season from 2004 to 2021 based on the nominated list retrieved from the [NBA MVP List](https://www.basketball-reference.com/awards/mvp.html)."
   ]
  },
  {
   "cell_type": "code",
   "execution_count": null,
   "metadata": {
    "cell_id": "21752dd7bfd8443a92395296c64a3f74",
    "deepnote_cell_height": 6299,
    "deepnote_cell_type": "code",
    "deepnote_to_be_reexecuted": false,
    "execution_millis": 389,
    "execution_start": 1656852277469,
    "source_hash": "c70b67bc",
    "tags": []
   },
   "outputs": [],
   "source": [
    "twentyone.loc['Stephen Curry 2021', ['isNominated']] = True\n",
    "twentyone.loc['Joel Embiid 2021', ['isNominated']] = True\n",
    "twentyone.loc['Nikola Jokic 2021', ['isNominated']] = True\n",
    "twentyone.loc['Giannis Antetokounmpo 2021', ['isNominated']] = True\n",
    "twentyone.loc['Chris Paul 2021', ['isNominated']] = True\n",
    "twentyone.loc['Luka Doncic 2021', ['isNominated']] = True\n",
    "twentyone.loc['Damian Lillard 2021', ['isNominated']] = True\n",
    "twentyone.loc['Julius Randle 2021', ['isNominated']] = True\n",
    "twentyone.loc['Derrick Rose 2021', ['isNominated']] = True\n",
    "twentyone.loc['Rudy Gobert 2021', ['isNominated']] = True\n",
    "twentyone.loc['Russell Westbrook 2021', ['isNominated']] = True\n",
    "twentyone.loc['James Harden 2021', ['isNominated']] = True\n",
    "twentyone.loc['LeBron James 2021', ['isNominated']] = True\n",
    "print(twentyone.loc['Stephen Curry 2021'])\n",
    "print(twentyone.loc['Joel Embiid 2021'])\n",
    "print(twentyone.loc['Nikola Jokic 2021'])\n",
    "\n",
    "twenty.loc['LeBron James 2020', ['isNominated']] = True\n",
    "twenty.loc['Giannis Antetokounmpo 2020', ['isNominated']] = True\n",
    "twenty.loc['James Harden 2020', ['isNominated']] = True\n",
    "twenty.loc['Luka Doncic 2020', ['isNominated']] = True\n",
    "twenty.loc['Kawhi Leonard 2020', ['isNominated']] = True\n",
    "twenty.loc['Anthony Davis 2020', ['isNominated']] = True\n",
    "twenty.loc['Chris Paul 2020', ['isNominated']] = True\n",
    "twenty.loc['Damian Lillard 2020', ['isNominated']] = True\n",
    "twenty.loc['Nikola Jokic 2020', ['isNominated']] = True\n",
    "twenty.loc['Pascal Siakam 2020', ['isNominated']] = True\n",
    "twenty.loc['Jimmy Butler 2020', ['isNominated']] = True\n",
    "twenty.loc['Jayson Tatum 2020', ['isNominated']] = True\n",
    "print(\"twenty\", twenty.loc['LeBron James 2020'])\n",
    "print(\"twenty\", twenty.loc['Giannis Antetokounmpo 2020'])\n",
    "print(\"twenty\", twenty.loc['James Harden 2020'])\n",
    "\n",
    "nineteen.loc['Giannis Antetokounmpo 2019', ['isNominated']] = True\n",
    "nineteen.loc['James Harden 2019', ['isNominated']] = True\n",
    "nineteen.loc['Paul George 2019', ['isNominated']] = True\n",
    "nineteen.loc['Nikola Jokic 2019', ['isNominated']] = True\n",
    "nineteen.loc['Stephen Curry 2019', ['isNominated']] = True\n",
    "nineteen.loc['Damian Lillard 2019', ['isNominated']] = True\n",
    "nineteen.loc['Joel Embiid 2019', ['isNominated']] = True\n",
    "nineteen.loc['Kawhi Leonard 2019', ['isNominated']] = True\n",
    "nineteen.loc['Russell Westbrook 2019', ['isNominated']] = True\n",
    "nineteen.loc['Rudy Gobert 2019', ['isNominated']] = True\n",
    "nineteen.loc['LeBron James 2019', ['isNominated']] = True\n",
    "print(nineteen.loc['Giannis Antetokounmpo 2019'])\n",
    "print(nineteen.loc['James Harden 2019'])\n",
    "print(nineteen.loc['Paul George 2019'])\n",
    "\n",
    "eighteen.loc['LeBron James 2018', ['isNominated']] = True\n",
    "eighteen.loc['Anthony Davis 2018', ['isNominated']] = True\n",
    "eighteen.loc['James Harden 2018', ['isNominated']] = True\n",
    "eighteen.loc['Damian Lillard 2018', ['isNominated']] = True\n",
    "eighteen.loc['Russell Westbrook 2018', ['isNominated']] = True\n",
    "eighteen.loc['Giannis Antetokounmpo 2018', ['isNominated']] = True\n",
    "eighteen.loc['Kevin Durant 2018', ['isNominated']] = True\n",
    "eighteen.loc['DeMar DeRozan 2018', ['isNominated']] = True\n",
    "eighteen.loc['LaMarcus Aldridge 2018', ['isNominated']] = True\n",
    "eighteen.loc['Jimmy Butler 2018', ['isNominated']] = True\n",
    "eighteen.loc['Stephen Curry 2018', ['isNominated']] = True\n",
    "eighteen.loc['Joel Embiid 2018', ['isNominated']] = True\n",
    "eighteen.loc['Victor Oladipo 2018', ['isNominated']] = True\n",
    "print(eighteen.loc['LeBron James 2018'])\n",
    "print(eighteen.loc['Anthony Davis 2018'])\n",
    "print(eighteen.loc['James Harden 2018'])\n",
    "\n",
    "seventeen.loc['Russell Westbrook 2017', ['isNominated']] = True\n",
    "seventeen.loc['James Harden 2017', ['isNominated']] = True\n",
    "seventeen.loc['Kawhi Leonard 2017', ['isNominated']] = True\n",
    "seventeen.loc['LeBron James 2017', ['isNominated']] = True\n",
    "seventeen.loc['Isaiah Thomas 2017', ['isNominated']] = True\n",
    "seventeen.loc['Stephen Curry 2017', ['isNominated']] = True\n",
    "seventeen.loc['Giannis Antetokounmpo 2017', ['isNominated']] = True\n",
    "seventeen.loc['John Wall 2017', ['isNominated']] = True\n",
    "seventeen.loc['Anthony Davis 2017', ['isNominated']] = True\n",
    "seventeen.loc['Kevin Durant 2017', ['isNominated']] = True\n",
    "seventeen.loc['DeMar DeRozan 2017', ['isNominated']] = True\n",
    "print(seventeen.loc['Russell Westbrook 2017'])\n",
    "print(seventeen.loc['James Harden 2017'])\n",
    "print(seventeen.loc['Kawhi Leonard 2017'])\n",
    "\n",
    "sixteen.loc['Stephen Curry 2016', ['isNominated']] = True\n",
    "sixteen.loc['Kawhi Leonard 2016', ['isNominated']] = True\n",
    "sixteen.loc['LeBron James 2016', ['isNominated']] = True\n",
    "sixteen.loc['Russell Westbrook 2016', ['isNominated']] = True\n",
    "sixteen.loc['Kevin Durant 2016', ['isNominated']] = True\n",
    "sixteen.loc['Chris Paul 2016', ['isNominated']] = True\n",
    "sixteen.loc['Draymond Green 2016', ['isNominated']] = True\n",
    "sixteen.loc['Damian Lillard 2016', ['isNominated']] = True\n",
    "sixteen.loc['James Harden 2016', ['isNominated']] = True\n",
    "sixteen.loc['Kyle Lowry 2016', ['isNominated']] = True\n",
    "print(sixteen.loc['Stephen Curry 2016'])\n",
    "print(sixteen.loc['Kawhi Leonard 2016'])\n",
    "print(sixteen.loc['LeBron James 2016'])\n",
    "\n",
    "fifteen.loc['Stephen Curry 2015', ['isNominated']] = True\n",
    "fifteen.loc['James Harden 2015', ['isNominated']] = True\n",
    "fifteen.loc['LeBron James 2015', ['isNominated']] = True\n",
    "fifteen.loc['Russell Westbrook 2015', ['isNominated']] = True\n",
    "fifteen.loc['Anthony Davis 2015', ['isNominated']] = True\n",
    "fifteen.loc['Chris Paul 2015', ['isNominated']] = True\n",
    "fifteen.loc['LaMarcus Aldridge 2015', ['isNominated']] = True\n",
    "fifteen.loc['Marc Gasol 2015', ['isNominated']] = True\n",
    "fifteen.loc['Blake Griffin 2015', ['isNominated']] = True\n",
    "fifteen.loc['Tim Duncan 2015', ['isNominated']] = True\n",
    "fifteen.loc['Kawhi Leonard 2015', ['isNominated']] = True\n",
    "fifteen.loc['Klay Thompson 2015', ['isNominated']] = True\n",
    "print(fifteen.loc['Stephen Curry 2015'])\n",
    "print(fifteen.loc['James Harden 2015'])\n",
    "print(fifteen.loc['LeBron James 2015'])\n",
    "\n",
    "fourteen.loc['Kevin Durant 2014', ['isNominated']] = True\n",
    "fourteen.loc['LeBron James 2014', ['isNominated']] = True\n",
    "fourteen.loc['Blake Griffin 2014', ['isNominated']] = True\n",
    "fourteen.loc['Joakim Noah 2014', ['isNominated']] = True\n",
    "fourteen.loc['James Harden 2014', ['isNominated']] = True\n",
    "fourteen.loc['Stephen Curry 2014', ['isNominated']] = True\n",
    "fourteen.loc['Chris Paul 2014', ['isNominated']] = True\n",
    "fourteen.loc['Al Jefferson 2014', ['isNominated']] = True\n",
    "fourteen.loc['Paul George 2014', ['isNominated']] = True\n",
    "fourteen.loc['LaMarcus Aldridge 2014', ['isNominated']] = True\n",
    "fourteen.loc['Tim Duncan 2014', ['isNominated']] = True\n",
    "fourteen.loc['Tony Parker 2014', ['isNominated']] = True\n",
    "fourteen.loc['Dirk Nowitzki 2014', ['isNominated']] = True\n",
    "fourteen.loc['Carmelo Anthony 2014', ['isNominated']] = True\n",
    "fourteen.loc['Goran Dragic 2014', ['isNominated']] = True\n",
    "fourteen.loc['Mike Conley 2014', ['isNominated']] = True\n",
    "print(fourteen.loc['Kevin Durant 2014'])\n",
    "print(fourteen.loc['LeBron James 2014'])\n",
    "print(fourteen.loc['Blake Griffin 2014'])\n",
    "\n",
    "thirteen.loc['LeBron James 2013', ['isNominated']] = True\n",
    "thirteen.loc['Kevin Durant 2013', ['isNominated']] = True\n",
    "thirteen.loc['Carmelo Anthony 2013', ['isNominated']] = True\n",
    "thirteen.loc['Chris Paul 2013', ['isNominated']] = True\n",
    "thirteen.loc['Kobe Bryant 2013', ['isNominated']] = True\n",
    "thirteen.loc['Tony Parker 2013', ['isNominated']] = True\n",
    "thirteen.loc['Tim Duncan 2013', ['isNominated']] = True\n",
    "thirteen.loc['James Harden 2013', ['isNominated']] = True\n",
    "thirteen.loc['Russell Westbrook 2013', ['isNominated']] = True\n",
    "thirteen.loc['Dwyane Wade 2013', ['isNominated']] = True\n",
    "thirteen.loc['Stephen Curry 2013', ['isNominated']] = True\n",
    "thirteen.loc['Kevin Garnett 2013', ['isNominated']] = True\n",
    "thirteen.loc['Marc Gasol 2013', ['isNominated']] = True\n",
    "thirteen.loc['David Lee 2013', ['isNominated']] = True\n",
    "thirteen.loc['Joakim Noah 2013', ['isNominated']] = True\n",
    "print(thirteen.loc['LeBron James 2013'])\n",
    "print(thirteen.loc['Kevin Durant 2013'])\n",
    "print(thirteen.loc['Carmelo Anthony 2013'])\n",
    "\n",
    "twelve.loc['LeBron James 2012', ['isNominated']] = True\n",
    "twelve.loc['Kevin Durant 2012', ['isNominated']] = True\n",
    "twelve.loc['Chris Paul 2012', ['isNominated']] = True\n",
    "twelve.loc['Kobe Bryant 2012', ['isNominated']] = True\n",
    "twelve.loc['Tony Parker 2012', ['isNominated']] = True\n",
    "twelve.loc['Kevin Love 2012', ['isNominated']] = True\n",
    "twelve.loc['Dwight Howard 2012', ['isNominated']] = True\n",
    "twelve.loc['Rajon Rondo 2012', ['isNominated']] = True\n",
    "twelve.loc['Steve Nash 2012', ['isNominated']] = True\n",
    "twelve.loc['Dwyane Wade 2012', ['isNominated']] = True\n",
    "twelve.loc['Dirk Nowitzki 2012', ['isNominated']] = True\n",
    "twelve.loc['Russell Westbrook 2012', ['isNominated']] = True\n",
    "twelve.loc['Tim Duncan 2012', ['isNominated']] = True\n",
    "twelve.loc['Joe Johnson 2012', ['isNominated']] = True\n",
    "print(twelve.loc['LeBron James 2012'])\n",
    "print(twelve.loc['Kevin Durant 2012'])\n",
    "print(twelve.loc['Chris Paul 2012'])\n",
    "\n",
    "eleven.loc['Derrick Rose 2011', ['isNominated']] = True\n",
    "eleven.loc['Dwight Howard 2011', ['isNominated']] = True\n",
    "eleven.loc['LeBron James 2011', ['isNominated']] = True\n",
    "eleven.loc['Kobe Bryant 2011', ['isNominated']] = True\n",
    "eleven.loc['Kevin Durant 2011', ['isNominated']] = True\n",
    "eleven.loc['Dirk Nowitzki 2011', ['isNominated']] = True\n",
    "eleven.loc['Dwyane Wade 2011', ['isNominated']] = True\n",
    "eleven.loc['Manu Ginobili 2011', ['isNominated']] = True\n",
    "eleven.loc[\"Amar'e Stoudemire 2011\", ['isNominated']] = True\n",
    "eleven.loc['Blake Griffin 2011', ['isNominated']] = True\n",
    "eleven.loc['Rajon Rondo 2011', ['isNominated']] = True\n",
    "eleven.loc['Tony Parker 2011', ['isNominated']] = True\n",
    "eleven.loc['Chris Paul 2011', ['isNominated']] = True\n",
    "print(eleven.loc['Derrick Rose 2011'])\n",
    "print(eleven.loc['Dwight Howard 2011'])\n",
    "print(eleven.loc['LeBron James 2011'])\n",
    "\n",
    "ten.loc['LeBron James 2010', ['isNominated']] = True\n",
    "ten.loc['Kevin Durant 2010', ['isNominated']] = True\n",
    "ten.loc['Kobe Bryant 2010', ['isNominated']] = True\n",
    "ten.loc['Dwight Howard 2010', ['isNominated']] = True\n",
    "ten.loc['Dwyane Wade 2010', ['isNominated']] = True\n",
    "ten.loc['Carmelo Anthony 2010', ['isNominated']] = True\n",
    "ten.loc['Dirk Nowitzki 2010', ['isNominated']] = True\n",
    "ten.loc['Steve Nash 2010', ['isNominated']] = True\n",
    "ten.loc['Deron Williams 2010', ['isNominated']] = True\n",
    "ten.loc[\"Amar'e Stoudemire 2010\", ['isNominated']] = True\n",
    "ten.loc['Manu Ginobili 2010', ['isNominated']] = True\n",
    "ten.loc['Chauncey Billups 2010', ['isNominated']] = True\n",
    "ten.loc['Chris Bosh 2010', ['isNominated']] = True\n",
    "ten.loc['Stephen Jackson 2010', ['isNominated']] = True\n",
    "ten.loc['Joe Johnson 2010', ['isNominated']] = True\n",
    "print(ten.loc['LeBron James 2010'])\n",
    "print(ten.loc['Kevin Durant 2010'])\n",
    "print(ten.loc['Kobe Bryant 2010'])\n",
    "\n",
    "nine.loc['LeBron James 2009', ['isNominated']] = True\n",
    "nine.loc['Kobe Bryant 2009', ['isNominated']] = True\n",
    "nine.loc['Dwyane Wade 2009', ['isNominated']] = True\n",
    "nine.loc['Dwight Howard 2009', ['isNominated']] = True\n",
    "nine.loc['Chris Paul 2009', ['isNominated']] = True\n",
    "nine.loc['Chauncey Billups 2009', ['isNominated']] = True\n",
    "nine.loc['Paul Pierce 2009', ['isNominated']] = True\n",
    "nine.loc['Tony Parker 2009', ['isNominated']] = True\n",
    "nine.loc['Brandon Roy 2009', ['isNominated']] = True\n",
    "nine.loc['Dirk Nowitzki 2009', ['isNominated']] = True\n",
    "nine.loc['Tim Duncan 2009', ['isNominated']] = True\n",
    "print(nine.loc['LeBron James 2009'])\n",
    "print(nine.loc['Kobe Bryant 2009'])\n",
    "print(nine.loc['Dwyane Wade 2009'])\n",
    "\n",
    "eight.loc['Kobe Bryant 2008', ['isNominated']] = True\n",
    "eight.loc['Chris Paul 2008', ['isNominated']] = True\n",
    "eight.loc['Kevin Garnett 2008', ['isNominated']] = True\n",
    "eight.loc['LeBron James 2008', ['isNominated']] = True\n",
    "eight.loc['Dwight Howard 2008', ['isNominated']] = True\n",
    "eight.loc[\"Amar'e Stoudemire 2008\", ['isNominated']] = True\n",
    "eight.loc['Tim Duncan 2008', ['isNominated']] = True\n",
    "eight.loc['Tracy McGrady 2008', ['isNominated']] = True\n",
    "eight.loc['Steve Nash 2008', ['isNominated']] = True\n",
    "eight.loc['Manu Ginobili 2008', ['isNominated']] = True\n",
    "eight.loc['Dirk Nowitzki 2008', ['isNominated']] = True\n",
    "eight.loc['Deron Williams 2008', ['isNominated']] = True\n",
    "eight.loc['Carmelo Anthony 2008', ['isNominated']] = True\n",
    "eight.loc['Carlos Boozer 2008', ['isNominated']] = True\n",
    "eight.loc['Antawn Jamison 2008', ['isNominated']] = True\n",
    "eight.loc['Paul Pierce 2008', ['isNominated']] = True\n",
    "eight.loc['Rasheed Wallace 2008', ['isNominated']] = True\n",
    "print(eight.loc['Kobe Bryant 2008'])\n",
    "print(eight.loc['Chris Paul 2008'])\n",
    "print(eight.loc['Kevin Garnett 2008'])\n",
    "\n",
    "seven.loc['Dirk Nowitzki 2007', ['isNominated']] = True\n",
    "seven.loc['Steve Nash 2007', ['isNominated']] = True\n",
    "seven.loc['Kobe Bryant 2007', ['isNominated']] = True\n",
    "seven.loc['Tim Duncan 2007', ['isNominated']] = True\n",
    "seven.loc['LeBron James 2007', ['isNominated']] = True\n",
    "seven.loc['Tracy McGrady 2007', ['isNominated']] = True\n",
    "seven.loc['Chris Bosh 2007', ['isNominated']] = True\n",
    "seven.loc['Gilbert Arenas 2007', ['isNominated']] = True\n",
    "seven.loc['Carlos Boozer 2007', ['isNominated']] = True\n",
    "seven.loc['Kevin Garnett 2007', ['isNominated']] = True\n",
    "seven.loc['Chauncey Billups 2007', ['isNominated']] = True\n",
    "seven.loc[\"Shaquille O'Neal 2007\", ['isNominated']] = True\n",
    "seven.loc['Dwyane Wade 2007', ['isNominated']] = True\n",
    "seven.loc[\"Amar'e Stoudemire 2007\", ['isNominated']] = True\n",
    "seven.loc['Carmelo Anthony 2007', ['isNominated']] = True\n",
    "seven.loc['Baron Davis 2007', ['isNominated']] = True\n",
    "seven.loc['Tony Parker 2007', ['isNominated']] = True\n",
    "print(seven.loc['Dirk Nowitzki 2007'])\n",
    "print(seven.loc['Steve Nash 2007'])\n",
    "print(seven.loc['Kobe Bryant 2007'])\n",
    "\n",
    "six.loc['Dirk Nowitzki 2006', ['isNominated']] = True\n",
    "six.loc['Steve Nash 2006', ['isNominated']] = True\n",
    "six.loc['LeBron James 2006', ['isNominated']] = True\n",
    "six.loc['Kobe Bryant 2006', ['isNominated']] = True\n",
    "six.loc['Chauncey Billups 2006', ['isNominated']] = True\n",
    "six.loc['Dwyane Wade 2006', ['isNominated']] = True\n",
    "six.loc['Elton Brand 2006', ['isNominated']] = True\n",
    "six.loc['Tim Duncan 2006', ['isNominated']] = True\n",
    "six.loc['Tony Parker 2006', ['isNominated']] = True\n",
    "six.loc['Allen Iverson 2006', ['isNominated']] = True\n",
    "six.loc['Shawn Marion 2006', ['isNominated']] = True\n",
    "print(six.loc['Dirk Nowitzki 2006'])\n",
    "print(six.loc['Steve Nash 2006'])\n",
    "print(six.loc['LeBron James 2006'])\n",
    "\n",
    "five.loc['Dirk Nowitzki 2005', ['isNominated']] = True\n",
    "five.loc['Steve Nash 2005', ['isNominated']] = True\n",
    "five.loc[\"Shaquille O'Neal 2005\", ['isNominated']] = True\n",
    "five.loc['Tim Duncan 2005', ['isNominated']] = True\n",
    "five.loc['Allen Iverson 2005', ['isNominated']] = True\n",
    "five.loc['LeBron James 2005', ['isNominated']] = True\n",
    "five.loc['Tracy McGrady 2005', ['isNominated']] = True\n",
    "five.loc[\"Amar'e Stoudemire 2005\", ['isNominated']] = True\n",
    "five.loc['Ray Allen 2005', ['isNominated']] = True\n",
    "five.loc['Kevin Garnett 2005', ['isNominated']] = True\n",
    "five.loc['Gilbert Arenas 2005', ['isNominated']] = True\n",
    "five.loc['Vince Carter 2005', ['isNominated']] = True\n",
    "five.loc['Marcus Camby 2005', ['isNominated']] = True\n",
    "five.loc['Shawn Marion 2005', ['isNominated']] = True\n",
    "print(five.loc['Dirk Nowitzki 2005'])\n",
    "print(five.loc['Steve Nash 2005'])\n",
    "print(five.loc[\"Shaquille O'Neal 2005\"])\n",
    "\n",
    "four.loc['Kevin Garnett 2004', ['isNominated']] = True\n",
    "four.loc['Tim Duncan 2004', ['isNominated']] = True\n",
    "four.loc[\"Jermaine O'Neal 2004\", ['isNominated']] = True\n",
    "four.loc[\"Peja Stojakovic 2004\", ['isNominated']] = True\n",
    "four.loc[\"Kobe Bryant 2004\", ['isNominated']] = True\n",
    "four.loc[\"Shaquille O'Neal 2004\", ['isNominated']] = True\n",
    "four.loc[\"Ben Wallace 2004\", ['isNominated']] = True\n",
    "four.loc[\"Jason Kidd 2004\", ['isNominated']] = True\n",
    "four.loc[\"LeBron James 2004\", ['isNominated']] = True\n",
    "four.loc[\"Sam Cassell 2004\", ['isNominated']] = True\n",
    "four.loc[\"Baron Davis 2004\", ['isNominated']] = True\n",
    "four.loc[\"Dirk Nowitzki 2004\", ['isNominated']] = True\n",
    "four.loc[\"Andrei Kirilenko 2004\", ['isNominated']] = True\n",
    "four.loc[\"Carmelo Anthony 2004\", ['isNominated']] = True\n",
    "four.loc[\"Yao Ming 2004\", ['isNominated']] = True\n",
    "four.loc[\"Michael Redd 2004\", ['isNominated']] = True\n",
    "print(four.loc['Kevin Garnett 2004'])\n",
    "print(four.loc['Tim Duncan 2004'])\n",
    "print(four.loc[\"Jermaine O'Neal 2004\"])"
   ]
  },
  {
   "cell_type": "code",
   "execution_count": null,
   "metadata": {
    "cell_id": "afa20f01bd9c43fb99d82c65d0b34d8a",
    "deepnote_cell_height": 319,
    "deepnote_cell_type": "code",
    "deepnote_table_invalid": false,
    "deepnote_table_loading": false,
    "deepnote_table_state": {
     "filters": [],
     "pageIndex": 44,
     "pageSize": 10,
     "sortBy": [
      {
       "id": "isNominated",
       "type": "asc"
      }
     ]
    },
    "deepnote_to_be_reexecuted": false,
    "execution_millis": 389,
    "execution_start": 1656837891895,
    "source_hash": "25d71615",
    "tags": []
   },
   "outputs": [],
   "source": [
    "nine"
   ]
  },
  {
   "cell_type": "markdown",
   "metadata": {
    "cell_id": "4642f6dade6a4c7ebb61b6bbad7e2cf1",
    "deepnote_cell_type": "text-cell-h1",
    "formattedRanges": [],
    "is_collapsed": false,
    "tags": []
   },
   "source": [
    "# Exploratory Data Analysis"
   ]
  },
  {
   "cell_type": "markdown",
   "metadata": {
    "cell_id": "7aaf349411a946e2ab9b5b24e33ab8a3",
    "deepnote_cell_height": 74.78125,
    "deepnote_cell_type": "markdown",
    "tags": []
   },
   "source": [
    "Before we can allow our model to encroach the data, we must understand our datasets first. A proper **exploration** and **analysis** of our data’s tendencies is a good way to grant ourselves a bird’s eye view of what we’re dealing with."
   ]
  },
  {
   "cell_type": "markdown",
   "metadata": {
    "cell_id": "0f6bcffd9191478daf73858fd8163076",
    "deepnote_cell_type": "text-cell-h2",
    "formattedRanges": [],
    "is_collapsed": false,
    "tags": []
   },
   "source": [
    "## Number of observations and variables"
   ]
  },
  {
   "cell_type": "code",
   "execution_count": null,
   "metadata": {
    "cell_id": "3d8b8af679394cddb7e4d3a68102a3a6",
    "deepnote_cell_height": 989,
    "deepnote_cell_type": "code",
    "deepnote_to_be_reexecuted": false,
    "execution_millis": 781,
    "execution_start": 1656770484479,
    "source_hash": "ce3eb41d",
    "tags": []
   },
   "outputs": [],
   "source": [
    "twentyone.info()\n",
    "twenty.info()\n",
    "nineteen.info()\n",
    "eighteen.info()\n",
    "seventeen.info()\n",
    "sixteen.info()\n",
    "fifteen.info()\n",
    "fourteen.info()\n",
    "thirteen.info()\n",
    "twelve.info()\n",
    "eleven.info()\n",
    "ten.info()\n",
    "nine.info()\n",
    "eight.info()\n",
    "seven.info()\n",
    "six.info()\n",
    "five.info()"
   ]
  },
  {
   "cell_type": "markdown",
   "metadata": {
    "cell_id": "c994d4e266294ee29bbd996c7ef71d04",
    "deepnote_cell_height": 543.03125,
    "deepnote_cell_type": "markdown",
    "tags": []
   },
   "source": [
    "### Number of Observations:\n",
    "\n",
    "- `twentyone`: 633\n",
    "- `twenty`: 585\n",
    "- `nineteen`: 599\n",
    "- `eighteen`: 599\n",
    "- `seventeen`: 604\n",
    "- `sixteen`; 571\n",
    "- `fifteen`: 579\n",
    "- `fourteen`: 556\n",
    "- `thirteen`: 481\n",
    "- `twelve`; 470\n",
    "- `eleven`: 478\n",
    "- `ten`: 452\n",
    "- `nine`: 442\n",
    "- `eight`: 444\n",
    "- `seven`: 450\n",
    "- `six`: 458\n",
    "- `five`: 458\n",
    "\n",
    "These are the number of registered players for each season.\n"
   ]
  },
  {
   "cell_type": "markdown",
   "metadata": {
    "cell_id": "f6171513619d46ea8ac46d4aa6bba6b8",
    "deepnote_cell_height": 607.8125,
    "deepnote_cell_type": "markdown",
    "tags": []
   },
   "source": [
    "### Variable Glossary\n",
    "\n",
    "**ALL** dataframes have **19** variables\n",
    "\n",
    "- `MIN`: Average number of minutes the player has played\n",
    "- `FGM`: Average number of field goals made\n",
    "- `FG3M`: Average number of three point field goals made\n",
    "- `FG3A`: Average number of three point field goal attempts\n",
    "- `FTM`: Average number of free throws made\n",
    "- `FTA`: Average number of free throw attempts\n",
    "- `OREB`: Average number of offensive rebounds\n",
    "- `DREB`: Average number of defensive rebounds\n",
    "- `TO`: Average number of turnovers\n",
    "- `PF`: Average number of personal fouls\n",
    "- `PLUS_MINUS`: Average impact of the player on each game\n",
    "- `FG_PCT`: Average Field Goal Percentage of the player\n",
    "- `FT_PCT`: Average Free Throw Percentage of the player\n",
    "- `REB`: Average Rebounds of the player\n",
    "- `AST`: Average Assists of the player\n",
    "- `STL`: Average Steals of the player\n",
    "- `BLK`: Average Blocks of the player\n",
    "- `PTS`: Average Points of the player\n",
    "- `isNominated`: If the player has been voted for MVP\n"
   ]
  },
  {
   "cell_type": "code",
   "execution_count": null,
   "metadata": {
    "cell_id": "6a9fd91e15e046b38ebc6a7cc8bab12a",
    "deepnote_cell_height": 81,
    "deepnote_cell_type": "code",
    "deepnote_to_be_reexecuted": false,
    "execution_millis": 3,
    "execution_start": 1656770488686,
    "source_hash": "c00b6b5a",
    "tags": []
   },
   "outputs": [],
   "source": [
    "EDA = twentyone"
   ]
  },
  {
   "cell_type": "markdown",
   "metadata": {
    "cell_id": "24b14cb6b27b49e88eb35954af711be3",
    "deepnote_cell_height": 62,
    "deepnote_cell_type": "markdown",
    "tags": []
   },
   "source": [
    "### Box Plots of Each Variable"
   ]
  },
  {
   "cell_type": "markdown",
   "metadata": {
    "cell_id": "d706ecbde2b54f4595e28df889e54a42",
    "deepnote_cell_height": 97.171875,
    "deepnote_cell_type": "markdown",
    "tags": []
   },
   "source": [
    "In here, we can visualize the **five-number summary** of each variable. We spotted a series of noteworthy outliers for some of the variables. We chose to do a box plot because we figured it was the best plot to represent our data. Because of the amount of players in our data other graphs won't be able to represent our dataset clearly."
   ]
  },
  {
   "cell_type": "code",
   "execution_count": null,
   "metadata": {
    "cell_id": "7b02b189fe4149278c1775131be614eb",
    "deepnote_cell_height": 760.1875,
    "deepnote_cell_type": "code",
    "deepnote_output_heights": [
     null,
     611
    ],
    "deepnote_to_be_reexecuted": false,
    "execution_millis": 240,
    "execution_start": 1656770633035,
    "source_hash": "eb554a03",
    "tags": []
   },
   "outputs": [],
   "source": [
    "EDA.plot.box(y = 'MIN', figsize = (15,15))"
   ]
  },
  {
   "cell_type": "code",
   "execution_count": null,
   "metadata": {
    "cell_id": "7e96d0857ebd44a5a147ce2673e02af7",
    "deepnote_cell_height": 760.1875,
    "deepnote_cell_type": "code",
    "deepnote_output_heights": [
     null,
     611
    ],
    "deepnote_to_be_reexecuted": false,
    "execution_millis": 180,
    "execution_start": 1656770663806,
    "source_hash": "c2f46af5",
    "tags": []
   },
   "outputs": [],
   "source": [
    "EDA.plot.box(y = 'FGM', figsize = (15,15))"
   ]
  },
  {
   "cell_type": "code",
   "execution_count": null,
   "metadata": {
    "cell_id": "4024c156792d4b78931b73d6034ebb68",
    "deepnote_cell_height": 760.1875,
    "deepnote_cell_type": "code",
    "deepnote_output_heights": [
     null,
     611
    ],
    "deepnote_to_be_reexecuted": false,
    "execution_millis": 200,
    "execution_start": 1656770695963,
    "source_hash": "da8ad0f1",
    "tags": []
   },
   "outputs": [],
   "source": [
    "EDA.plot.box(y = 'FG3M', figsize = (15,15))"
   ]
  },
  {
   "cell_type": "code",
   "execution_count": null,
   "metadata": {
    "cell_id": "3f67214e5d7a4d738bf13eb88284de4e",
    "deepnote_cell_height": 760.1875,
    "deepnote_cell_type": "code",
    "deepnote_output_heights": [
     null,
     611
    ],
    "deepnote_to_be_reexecuted": false,
    "execution_millis": 198,
    "execution_start": 1656770711799,
    "source_hash": "1483ea95",
    "tags": []
   },
   "outputs": [],
   "source": [
    "EDA.plot.box(y = 'FG3A', figsize = (15,15))"
   ]
  },
  {
   "cell_type": "code",
   "execution_count": null,
   "metadata": {
    "cell_id": "c4bf99788f11480db7902f9d3095a269",
    "deepnote_cell_height": 760.1875,
    "deepnote_cell_type": "code",
    "deepnote_output_heights": [
     null,
     611
    ],
    "deepnote_to_be_reexecuted": false,
    "execution_millis": 194,
    "execution_start": 1656770725787,
    "source_hash": "ac86a90f",
    "tags": []
   },
   "outputs": [],
   "source": [
    "EDA.plot.box(y = 'FTM', figsize = (15,15))"
   ]
  },
  {
   "cell_type": "code",
   "execution_count": null,
   "metadata": {
    "cell_id": "399aa5fe25ba4838917188cfafd63f9b",
    "deepnote_cell_height": 760.1875,
    "deepnote_cell_type": "code",
    "deepnote_output_heights": [
     null,
     611
    ],
    "deepnote_to_be_reexecuted": false,
    "execution_millis": 259,
    "execution_start": 1656770732518,
    "source_hash": "f583768c",
    "tags": []
   },
   "outputs": [],
   "source": [
    "EDA.plot.box(y = 'FTA', figsize = (15,15))"
   ]
  },
  {
   "cell_type": "code",
   "execution_count": null,
   "metadata": {
    "cell_id": "1946d57d53da400b8d28bcb4245d07b1",
    "deepnote_cell_height": 760.1875,
    "deepnote_cell_type": "code",
    "deepnote_output_heights": [
     null,
     611
    ],
    "deepnote_to_be_reexecuted": false,
    "execution_millis": 669,
    "execution_start": 1656770742993,
    "source_hash": "76c3b6bc",
    "tags": []
   },
   "outputs": [],
   "source": [
    "EDA.plot.box(y = 'FT_PCT', figsize = (15,15))"
   ]
  },
  {
   "cell_type": "code",
   "execution_count": null,
   "metadata": {
    "cell_id": "786ff14799cc45698dc5b451d6fc0c37",
    "deepnote_cell_height": 760.1875,
    "deepnote_cell_type": "code",
    "deepnote_output_heights": [
     21.1875,
     611
    ],
    "deepnote_to_be_reexecuted": false,
    "execution_millis": 215,
    "execution_start": 1656770752054,
    "source_hash": "80b19033",
    "tags": []
   },
   "outputs": [],
   "source": [
    "EDA.plot.box(y = 'OREB', figsize = (15,15))"
   ]
  },
  {
   "cell_type": "code",
   "execution_count": null,
   "metadata": {
    "cell_id": "aa1172d51bc44004bbbea51187ef5334",
    "deepnote_cell_height": 760.1875,
    "deepnote_cell_type": "code",
    "deepnote_output_heights": [
     21.1875,
     611
    ],
    "deepnote_to_be_reexecuted": false,
    "execution_millis": 234,
    "execution_start": 1656770760429,
    "source_hash": "6554f68e",
    "tags": []
   },
   "outputs": [],
   "source": [
    "EDA.plot.box(y = 'DREB', figsize = (15,15))"
   ]
  },
  {
   "cell_type": "code",
   "execution_count": null,
   "metadata": {
    "cell_id": "642c313574ec49cba4a18517d42925f7",
    "deepnote_cell_height": 760.1875,
    "deepnote_cell_type": "code",
    "deepnote_output_heights": [
     21.1875,
     611
    ],
    "deepnote_to_be_reexecuted": false,
    "execution_millis": 235,
    "execution_start": 1656770767633,
    "source_hash": "199fbc5a",
    "tags": []
   },
   "outputs": [],
   "source": [
    "EDA.plot.box(y = 'REB', figsize = (15,15))"
   ]
  },
  {
   "cell_type": "code",
   "execution_count": null,
   "metadata": {
    "cell_id": "7961c41ae3e14b909cf6740ebff9bcc6",
    "deepnote_cell_height": 760.1875,
    "deepnote_cell_type": "code",
    "deepnote_output_heights": [
     21.1875,
     611
    ],
    "deepnote_to_be_reexecuted": false,
    "execution_millis": 215,
    "execution_start": 1656770774857,
    "source_hash": "b72ac3ef",
    "tags": []
   },
   "outputs": [],
   "source": [
    "EDA.plot.box(y = 'AST', figsize = (15,15))"
   ]
  },
  {
   "cell_type": "code",
   "execution_count": null,
   "metadata": {
    "cell_id": "e08cde90be5b4feeb071ec13d0ffd5c0",
    "deepnote_cell_height": 760.1875,
    "deepnote_cell_type": "code",
    "deepnote_output_heights": [
     21.1875,
     611
    ],
    "deepnote_to_be_reexecuted": false,
    "execution_millis": 232,
    "execution_start": 1656770781238,
    "source_hash": "43b3636b",
    "tags": []
   },
   "outputs": [],
   "source": [
    "EDA.plot.box(y = 'STL', figsize = (15,15))"
   ]
  },
  {
   "cell_type": "code",
   "execution_count": null,
   "metadata": {
    "cell_id": "d91f20a35acb464f8ec43ef6f01a2f96",
    "deepnote_cell_height": 760.1875,
    "deepnote_cell_type": "code",
    "deepnote_output_heights": [
     21.1875,
     611
    ],
    "deepnote_to_be_reexecuted": false,
    "execution_millis": 171,
    "execution_start": 1656770788895,
    "source_hash": "5fb4ed00",
    "tags": []
   },
   "outputs": [],
   "source": [
    "EDA.plot.box(y = 'BLK', figsize = (15,15))"
   ]
  },
  {
   "cell_type": "code",
   "execution_count": null,
   "metadata": {
    "cell_id": "c01c0814dce94405ae14c8b46468855a",
    "deepnote_cell_height": 760.1875,
    "deepnote_cell_type": "code",
    "deepnote_output_heights": [
     21.1875,
     611
    ],
    "deepnote_to_be_reexecuted": false,
    "execution_millis": 200,
    "execution_start": 1656770797101,
    "source_hash": "9db7b519",
    "tags": []
   },
   "outputs": [],
   "source": [
    "EDA.plot.box(y = 'TO', figsize = (15,15))"
   ]
  },
  {
   "cell_type": "code",
   "execution_count": null,
   "metadata": {
    "cell_id": "d0c658d863b948b89217d9846150c357",
    "deepnote_cell_height": 760.1875,
    "deepnote_cell_type": "code",
    "deepnote_output_heights": [
     21.1875,
     611
    ],
    "deepnote_to_be_reexecuted": false,
    "execution_millis": 571,
    "execution_start": 1656770813417,
    "source_hash": "379e4fba",
    "tags": []
   },
   "outputs": [],
   "source": [
    "EDA.plot.box(y = 'PF', figsize = (15,15))"
   ]
  },
  {
   "cell_type": "code",
   "execution_count": null,
   "metadata": {
    "cell_id": "f2d3190ecce846759e2992a7c786bc77",
    "deepnote_cell_height": 760.1875,
    "deepnote_cell_type": "code",
    "deepnote_output_heights": [
     21.1875,
     611
    ],
    "deepnote_to_be_reexecuted": false,
    "execution_millis": 998,
    "execution_start": 1656770827307,
    "source_hash": "bb4aa23a",
    "tags": []
   },
   "outputs": [],
   "source": [
    "EDA.plot.box(y = 'PTS', figsize = (15,15))"
   ]
  },
  {
   "cell_type": "code",
   "execution_count": null,
   "metadata": {
    "cell_id": "95595884b01546aea1248e5a3258bce7",
    "deepnote_cell_height": 760.1875,
    "deepnote_cell_type": "code",
    "deepnote_output_heights": [
     21.1875,
     611
    ],
    "deepnote_to_be_reexecuted": false,
    "execution_millis": 293,
    "execution_start": 1656770835374,
    "source_hash": "59ba01f6",
    "tags": []
   },
   "outputs": [],
   "source": [
    "EDA.plot.box(y = 'PLUS_MINUS', figsize = (15,15))"
   ]
  },
  {
   "cell_type": "markdown",
   "metadata": {
    "cell_id": "69648f06d19541569974a441c4c6b1e9",
    "deepnote_cell_height": 215.953125,
    "deepnote_cell_type": "markdown",
    "tags": []
   },
   "source": [
    "### Observations\n",
    "\n",
    "- `FGM`, `FG3M`, `FTM`, `FTA`, `OREB`, `DREB`, `REB`, `AST`, `STL`, `BLK`, `TO` and `PTS` have a lot of upper outliers \n",
    "- Upper outliers may signify those who perform well in terms of that feature and might be correlated with being nominated for MVP\n",
    "- `PLUS_MINUS` has both upper and lower outliers. Upper outliers may be correlated with being nominated for MVP.\n",
    "- Most nominees seems to be within the upper outliers\n",
    "- Most of the players are within the IQR (Interquartile Range)"
   ]
  },
  {
   "cell_type": "markdown",
   "metadata": {
    "cell_id": "ba4c3a5fb2b04d3d90ca4a00aefc1ec8",
    "deepnote_cell_type": "text-cell-h1",
    "formattedRanges": [],
    "is_collapsed": false,
    "tags": []
   },
   "source": [
    "# Initial Model Training &amp; Testing"
   ]
  },
  {
   "cell_type": "markdown",
   "metadata": {
    "cell_id": "ded9c7af81304448a96fcf5e20e769b0",
    "deepnote_cell_type": "text-cell-h2",
    "formattedRanges": [],
    "is_collapsed": false,
    "tags": []
   },
   "source": [
    "## Training &amp; Test "
   ]
  },
  {
   "cell_type": "markdown",
   "metadata": {
    "cell_id": "4215a2e191d84378921887bd82f92a49",
    "deepnote_cell_height": 74.78125,
    "deepnote_cell_type": "markdown",
    "tags": []
   },
   "source": [
    "Here we split the data intro our training and test sets for the different models to learn. A 70%-30% training-testing scheme was used to divide the data with the seasons 2004 to 2015 as the training set and seasons 2016-2021 as the testing set."
   ]
  },
  {
   "cell_type": "code",
   "execution_count": null,
   "metadata": {
    "cell_id": "447f11db143d4d0eac8e5530130c6e3b",
    "deepnote_cell_height": 1349,
    "deepnote_cell_type": "code",
    "deepnote_table_invalid": false,
    "deepnote_table_loading": false,
    "deepnote_table_state": {
     "filters": [],
     "pageIndex": 639,
     "pageSize": 10,
     "sortBy": []
    },
    "deepnote_to_be_reexecuted": false,
    "execution_millis": 908,
    "execution_start": 1656852295284,
    "source_hash": "c31b6db5",
    "tags": []
   },
   "outputs": [],
   "source": [
    "training = four.append(five)\n",
    "training = training.append(six)\n",
    "training = training.append(seven)\n",
    "training = training.append(eight)\n",
    "training = training.append(nine)\n",
    "training = training.append(ten)\n",
    "training = training.append(eleven)\n",
    "training = training.append(twelve)\n",
    "training = training.append(thirteen)\n",
    "training = training.append(fourteen)\n",
    "training = training.append(fifteen)\n",
    "\n",
    "training\n",
    "\n",
    "\n",
    "testing = sixteen.append(seventeen)\n",
    "testing = testing.append(eighteen)\n",
    "testing = testing.append(nineteen)\n",
    "testing = testing.append(twenty)\n",
    "testing = testing.append(twentyone)\n",
    "\n",
    "testing\n",
    "\n",
    "X_train = training.drop(columns = ['isNominated'])\n",
    "y_train = training['isNominated']\n",
    "\n",
    "print(X_train.head())\n",
    "print(y_train.head())\n",
    "\n",
    "X_test = testing.drop(columns = ['isNominated'])\n",
    "y_test = testing['isNominated']\n",
    "\n",
    "print(X_test.head())\n",
    "print(y_test.head())\n",
    "\n",
    "allX = X_train.append(X_test)\n",
    "allY = y_train.append(y_test)"
   ]
  },
  {
   "cell_type": "markdown",
   "metadata": {
    "cell_id": "13e0fa94123b4153a82da8a718753b53",
    "deepnote_cell_type": "text-cell-h2",
    "formattedRanges": [],
    "is_collapsed": false,
    "tags": []
   },
   "source": [
    "## Training Base Classifiers"
   ]
  },
  {
   "cell_type": "markdown",
   "metadata": {
    "cell_id": "4c2d0ff5d0434844a631a4abebd52747",
    "deepnote_cell_height": 52.390625,
    "deepnote_cell_type": "markdown",
    "tags": []
   },
   "source": [
    "We experimented on using different base models to see which one would perform with the best accuracy with the use of the F1 score."
   ]
  },
  {
   "cell_type": "markdown",
   "metadata": {
    "cell_id": "42f9bd636db940789125ecc126a813f3",
    "deepnote_cell_height": 268.515625,
    "deepnote_cell_type": "markdown",
    "tags": []
   },
   "source": [
    "**Classification** models were chosen because our problem was classification and not regression.\n",
    "- **Gaussian Naive Bayes** was chosen because Naive Bayes is one of the easiest classification model to train. This served as our basis for the performance of our other models\n",
    "- **KNeighbors Classifier** was chosen because we figured that nominated players would have similar scores with other nominated players making the model fit for our problem\n",
    "- **SGD Classifier** we wanted to test linear classifiers and SGD works well with large scale problems\n",
    "- **Decision Trees** and **Random Forest Classifier** these models were chosen because we figured learning through decisions might be fit for our problem. We included both decision trees and random forest because decision trees tend to overfit. Random forest will allow us to get the best prediction because not all players who are voted for MVP excel at all aspects."
   ]
  },
  {
   "cell_type": "code",
   "execution_count": null,
   "metadata": {
    "cell_id": "750622f6813042c885cbc56c05f33cae",
    "deepnote_cell_height": 940,
    "deepnote_cell_type": "code",
    "deepnote_to_be_reexecuted": false,
    "execution_millis": 3430,
    "execution_start": 1656852347377,
    "source_hash": "86485713",
    "tags": []
   },
   "outputs": [],
   "source": [
    "from sklearn.naive_bayes import GaussianNB\n",
    "from sklearn.linear_model import SGDClassifier\n",
    "from sklearn.neighbors import KNeighborsClassifier\n",
    "from sklearn.metrics import accuracy_score\n",
    "from sklearn import svm\n",
    "from sklearn.tree import DecisionTreeClassifier\n",
    "from sklearn.metrics import f1_score\n",
    "from sklearn.ensemble import RandomForestClassifier\n",
    "\n",
    "\n",
    "clfs = [\n",
    "    KNeighborsClassifier(n_neighbors=5), \n",
    "    SGDClassifier(),\n",
    "    GaussianNB(),\n",
    "    svm.SVC(kernel='rbf'),\n",
    "    DecisionTreeClassifier(),\n",
    "    RandomForestClassifier()\n",
    "]\n",
    "\n",
    "results = {}\n",
    "for clf in clfs:\n",
    "  clf.fit(X_train, y_train)\n",
    "  y_pred = clf.predict(X_train)\n",
    "  results[('Training', str(clf))] = {\n",
    "      'Accuracy': accuracy_score(y_train, y_pred),\n",
    "      'F1 score': f1_score(y_train, y_pred, average='binary')  \n",
    "  }\n",
    "\n",
    "pd.DataFrame(results).T"
   ]
  },
  {
   "cell_type": "markdown",
   "metadata": {
    "cell_id": "255040a3374148fbbd057f1b91cb3ac9",
    "deepnote_cell_type": "text-cell-h2",
    "formattedRanges": [],
    "is_collapsed": false,
    "tags": []
   },
   "source": [
    "## Testing Base Classifiers"
   ]
  },
  {
   "cell_type": "markdown",
   "metadata": {
    "cell_id": "d13df37956f1426c9af92d3402377319",
    "deepnote_cell_height": 52.390625,
    "deepnote_cell_type": "markdown",
    "tags": []
   },
   "source": [
    "We test the trained base models on our test data"
   ]
  },
  {
   "cell_type": "code",
   "execution_count": null,
   "metadata": {
    "cell_id": "51846eb82ffe434389df9f7f3adb8f14",
    "deepnote_cell_height": 1305,
    "deepnote_cell_type": "code",
    "deepnote_to_be_reexecuted": false,
    "execution_millis": 1217,
    "execution_start": 1656852355327,
    "source_hash": "8d0c5c21",
    "tags": []
   },
   "outputs": [],
   "source": [
    "results = {}\n",
    "for clf in clfs:\n",
    "  y_pred = clf.predict(X_test)\n",
    "  #print(pd.DataFrame(y_pred))\n",
    "  x = X_test.reset_index()\n",
    "  names = pd.concat([x, pd.DataFrame(y_pred)], axis = 1)\n",
    "  print(names.loc[names[0] == True])\n",
    "  #print(names)\n",
    "  results[('Testing', str(clf))] = {\n",
    "      'Accuracy': accuracy_score(y_test, y_pred),\n",
    "      'F1 score': f1_score(y_test, y_pred, average='binary') \n",
    "  }\n",
    "\n",
    "pd.DataFrame(results).T"
   ]
  },
  {
   "cell_type": "markdown",
   "metadata": {
    "cell_id": "84718158eff243e8ad28c50efa93383b",
    "deepnote_cell_type": "text-cell-h1",
    "formattedRanges": [],
    "is_collapsed": false,
    "tags": []
   },
   "source": [
    "# Hyperparameter Tuning"
   ]
  },
  {
   "cell_type": "markdown",
   "metadata": {
    "cell_id": "9a9134220b214779a85c6d373cf02ccf",
    "deepnote_cell_height": 52.390625,
    "deepnote_cell_type": "markdown",
    "tags": []
   },
   "source": [
    "Here we are fine tuning the models to see which parameters will help increase the F1 score which will help determine which is our best model."
   ]
  },
  {
   "cell_type": "code",
   "execution_count": null,
   "metadata": {
    "cell_id": "03225f5ff7114065bd91e0f4ff288c70",
    "deepnote_cell_height": 135,
    "deepnote_cell_type": "code",
    "deepnote_to_be_reexecuted": false,
    "execution_millis": 63782236,
    "execution_start": 1656834711152,
    "source_hash": "e657fa14",
    "tags": []
   },
   "outputs": [],
   "source": [
    "from sklearn.model_selection import RandomizedSearchCV\n",
    "from sklearn.model_selection import GridSearchCV\n",
    "from sklearn.linear_model import SGDClassifier\n",
    "import numpy as np"
   ]
  },
  {
   "cell_type": "code",
   "execution_count": null,
   "metadata": {
    "cell_id": "a196f3f0dcfb49a199f333000fcd70a9",
    "deepnote_cell_height": 1174.3125,
    "deepnote_cell_type": "code",
    "deepnote_to_be_reexecuted": false,
    "execution_millis": 1529167,
    "execution_start": 1656751837078,
    "source_hash": "47d39014",
    "tags": []
   },
   "outputs": [],
   "source": [
    "clf = SGDClassifier()\n",
    "\n",
    "hyperparameters = [\n",
    "     {\n",
    "     'alpha': [1e-4, 1e-5, 1e-6, 1e-7, 1e-8, 1e-9],\n",
    "     'penalty': ['l2','l1','elasticnet'],\n",
    "     'n_jobs': [-1],\n",
    "     'eta0':[0,1,10,100],\n",
    "     'loss':['hinge', 'log_loss', 'modified_huber', 'squared_hinge', 'perceptron'],\n",
    "     'max_iter':[1000, 2000],\n",
    "     'learning_rate':['constant','optimal', 'invscaling', 'adaptive']\n",
    "     }\n",
    " ]\n",
    "\n",
    "SGD = GridSearchCV(param_grid= hyperparameters,estimator=clf,cv = 5, scoring='f1')\n",
    "SGD.fit(X_train, y_train)\n",
    "\n",
    "SGD.best_params_"
   ]
  },
  {
   "cell_type": "code",
   "execution_count": null,
   "metadata": {
    "cell_id": "e00ed3ce97a44e4aa7973bb2efaca36e",
    "deepnote_cell_height": 362.375,
    "deepnote_cell_type": "code",
    "deepnote_to_be_reexecuted": false,
    "execution_millis": 4756,
    "execution_start": 1656753366244,
    "source_hash": "d9a7a06f",
    "tags": []
   },
   "outputs": [],
   "source": [
    "\n",
    "clf = GaussianNB()\n",
    "\n",
    "hyperparameters = {'var_smoothing': np.logspace(0,-9, num=100)}\n",
    "GNB = GridSearchCV(estimator=clf, \n",
    "                 param_grid=hyperparameters, \n",
    "                 cv=5,   # use any cross validation technique \n",
    "                 verbose=1, \n",
    "                 scoring='f1') \n",
    "GNB.fit(X_train, y_train)\n",
    "\n",
    "GNB.best_params_"
   ]
  },
  {
   "cell_type": "code",
   "execution_count": null,
   "metadata": {
    "cell_id": "c627fc7a7d5d41d789a3681fbd9aa574",
    "deepnote_cell_height": 388.1875,
    "deepnote_cell_type": "code",
    "deepnote_to_be_reexecuted": false,
    "execution_millis": 86550,
    "execution_start": 1656753371034,
    "source_hash": "2fd15a59",
    "tags": []
   },
   "outputs": [],
   "source": [
    "clf = KNeighborsClassifier()\n",
    "\n",
    "hyperparameters = [\n",
    "     {\n",
    "     'n_neighbors': [1, 3, 5, 10, 20, 50, 100],\n",
    "     'weights': ['uniform', 'distance'],\n",
    "     'leaf_size': [10, 30, 50, 100],\n",
    "     'p': [1, 2],\n",
    "     'n_jobs': [-1]\n",
    "     }\n",
    " ]\n",
    "\n",
    "KNN = GridSearchCV(param_grid= hyperparameters,estimator=clf,cv = 5, scoring='f1')\n",
    "KNN.fit(X_train, y_train)\n",
    "\n",
    "KNN.best_params_"
   ]
  },
  {
   "cell_type": "code",
   "execution_count": null,
   "metadata": {
    "cell_id": "59d4dab27e6440e8a01a600013a49c19",
    "deepnote_cell_height": 352.1875,
    "deepnote_cell_type": "code",
    "deepnote_to_be_reexecuted": false,
    "execution_millis": 16158,
    "execution_start": 1656770948451,
    "source_hash": "df341382",
    "tags": []
   },
   "outputs": [],
   "source": [
    "clf = svm.SVC()\n",
    "\n",
    "hyperparameters = [\n",
    "     {\n",
    "     'C': [0.1, 1, 10, 100, 1000],\n",
    "     'gamma': [1, 0.1, 0.01, 0.001, 0.0001],\n",
    "     'kernel': ['rbf', 'poly', 'sigmoid']\n",
    "     }\n",
    " ]\n",
    "\n",
    "SVM = RandomizedSearchCV(param_distributions= hyperparameters,estimator=clf,cv = 5, scoring='f1', n_iter = 10, n_jobs = -1)\n",
    "SVM.fit(X_train, y_train)\n",
    "\n",
    "SVM.best_params_"
   ]
  },
  {
   "cell_type": "code",
   "execution_count": null,
   "metadata": {
    "cell_id": "330b3ea2d26e407ba04c5d7be239bdb1",
    "deepnote_cell_height": 428.9375,
    "deepnote_cell_type": "code",
    "deepnote_to_be_reexecuted": false,
    "execution_millis": 1643054,
    "execution_start": 1656840295912,
    "source_hash": "b362562",
    "tags": []
   },
   "outputs": [],
   "source": [
    "clf = RandomForestClassifier()\n",
    "\n",
    "hyperparameters = [\n",
    "     {'bootstrap': [True, False],\n",
    "      'max_depth': [10, 20, 30, 40, 50, 60, 70, 80, 90, 100, None],\n",
    "      'min_samples_leaf': [1, 2, 4],\n",
    "      'min_samples_split': [2, 5, 10],\n",
    "      'n_estimators': [200, 400, 600, 800, 1000, 1200, 1400, 1600, 1800, 2000]}\n",
    " ]\n",
    "\n",
    "RFC = RandomizedSearchCV(param_distributions= hyperparameters,estimator=clf,cv = 5, scoring='f1', n_iter = 30, n_jobs = -1)\n",
    "RFC.fit(X_train, y_train)\n",
    "\n",
    "RFC.best_params_"
   ]
  },
  {
   "cell_type": "code",
   "execution_count": null,
   "metadata": {
    "cell_id": "76db413707434355bbedda0d44951390",
    "deepnote_cell_height": 901.875,
    "deepnote_cell_type": "code",
    "deepnote_to_be_reexecuted": false,
    "execution_millis": 282790,
    "execution_start": 1656834716633,
    "owner_user_id": "76ca7a81-f637-4780-9b41-4bbeb2bbdb7d",
    "source_hash": "a03c41ae",
    "tags": []
   },
   "outputs": [],
   "source": [
    "clf = DecisionTreeClassifier()\n",
    "\n",
    "hyperparameters = [\n",
    "     {\n",
    "     \"criterion\": [\"gini\", \"entropy\", \"log_loss\"],\n",
    "     \"max_depth\": [5, 10, 20, 30, 50, None],\n",
    "     \"min_samples_split\": [2, 4, 6, 10, 15, 20, 50, None],\n",
    "     \"max_leaf_nodes\": [3, 5, 10, 20, 50, 100, 200, None]\n",
    "     }\n",
    " ]\n",
    "\n",
    "DTC = GridSearchCV(param_grid= hyperparameters,estimator=clf,cv = 5, scoring='f1')\n",
    "DTC.fit(X_train, y_train)\n",
    "\n",
    "DTC.best_params_"
   ]
  },
  {
   "cell_type": "markdown",
   "metadata": {
    "cell_id": "23a5f35cd4cb4661853546c85469ee80",
    "deepnote_cell_type": "text-cell-h1",
    "formattedRanges": [],
    "is_collapsed": false,
    "tags": []
   },
   "source": [
    "# Training and Testing with best parameters"
   ]
  },
  {
   "cell_type": "markdown",
   "metadata": {
    "cell_id": "1dfb47bd9a554867942a74ac29839bec",
    "deepnote_cell_height": 52.390625,
    "deepnote_cell_type": "markdown",
    "tags": []
   },
   "source": [
    "Here we test again the models with the new chosen parameters."
   ]
  },
  {
   "cell_type": "code",
   "execution_count": null,
   "metadata": {
    "cell_id": "10622e880c574899b2eeddc5ca03a8e0",
    "deepnote_cell_height": 760,
    "deepnote_cell_type": "code",
    "deepnote_to_be_reexecuted": false,
    "execution_millis": 50150,
    "execution_start": 1656852366236,
    "source_hash": "6245ade3",
    "tags": []
   },
   "outputs": [],
   "source": [
    "clfs = [\n",
    "    KNeighborsClassifier(leaf_size= 10, n_jobs= -1, n_neighbors= 3, p= 1, weights= 'uniform'),\n",
    "    SGDClassifier( alpha= 1e-09, eta0 = 10, learning_rate = 'optimal', loss = 'hinge', max_iter = 1000, n_jobs = -1, penalty = 'l1'),\n",
    "    GaussianNB(var_smoothing= 0.2848035868435802),\n",
    "    svm.SVC(kernel='rbf', C = 10, gamma = 0.01),\n",
    "    DecisionTreeClassifier(criterion = 'gini', max_depth = 50, max_leaf_nodes = 20, min_samples_split = 15),\n",
    "    RandomForestClassifier(n_estimators = 1600, min_samples_split = 2, max_depth = 60, min_samples_leaf = 2, bootstrap = False)\n",
    "]\n",
    "\n",
    "results = {}\n",
    "for clf in clfs:\n",
    "  clf.fit(X_train, y_train)\n",
    "  y_pred = clf.predict(X_train)\n",
    "  results[('Training', str(clf))] = {\n",
    "      'Accuracy': accuracy_score(y_train, y_pred),\n",
    "      'F1 score': f1_score(y_train, y_pred, average='binary') \n",
    "  }\n",
    "\n",
    "pd.DataFrame(results).T"
   ]
  },
  {
   "cell_type": "markdown",
   "metadata": {
    "cell_id": "fca9449293444bc6a863c4d4aa16ca53",
    "deepnote_cell_height": 74.78125,
    "deepnote_cell_type": "markdown",
    "tags": []
   },
   "source": [
    "After finding the best parameters for each model, we ran an accuracy test to see if there were any improvements from the initial scores. As a result, the Random Forest Classifier gave the highest score among the different models used."
   ]
  },
  {
   "cell_type": "code",
   "execution_count": null,
   "metadata": {
    "cell_id": "a64019994424445e9798c39afbf49ba1",
    "deepnote_cell_height": 1305,
    "deepnote_cell_type": "code",
    "deepnote_to_be_reexecuted": false,
    "execution_millis": 1798,
    "execution_start": 1656852424665,
    "source_hash": "8d0c5c21",
    "tags": []
   },
   "outputs": [],
   "source": [
    "results = {}\n",
    "for clf in clfs:\n",
    "  y_pred = clf.predict(X_test)\n",
    "  #print(pd.DataFrame(y_pred))\n",
    "  x = X_test.reset_index()\n",
    "  names = pd.concat([x, pd.DataFrame(y_pred)], axis = 1)\n",
    "  print(names.loc[names[0] == True])\n",
    "  #print(names)\n",
    "  results[('Testing', str(clf))] = {\n",
    "      'Accuracy': accuracy_score(y_test, y_pred),\n",
    "      'F1 score': f1_score(y_test, y_pred, average='binary') \n",
    "  }\n",
    "\n",
    "pd.DataFrame(results).T"
   ]
  },
  {
   "cell_type": "markdown",
   "metadata": {
    "cell_id": "6c50d4c67d68451da1911c9e5dfc3188",
    "deepnote_cell_height": 52.390625,
    "deepnote_cell_type": "markdown",
    "tags": []
   },
   "source": [
    "There is a fairly significant increase between the F1 scores of the base classifiers and the tuned models."
   ]
  },
  {
   "cell_type": "markdown",
   "metadata": {
    "cell_id": "360cbbb85fbb47d88a6af16344da8045",
    "deepnote_cell_height": 52.390625,
    "deepnote_cell_type": "markdown",
    "tags": []
   },
   "source": [
    "From the results of our tuning, Random Forest Classifier had the best accuracy and F1 score compared to the other models we had."
   ]
  },
  {
   "cell_type": "markdown",
   "metadata": {
    "cell_id": "1962b9a19f174664b33811fa6c2fa6cb",
    "deepnote_cell_type": "text-cell-h1",
    "formattedRanges": [],
    "is_collapsed": false,
    "tags": []
   },
   "source": [
    "# Predicting Based on User Input"
   ]
  },
  {
   "cell_type": "markdown",
   "metadata": {
    "cell_id": "b225f8cf7ba0484085ee9d1abaea775e",
    "deepnote_cell_height": 147.5625,
    "deepnote_cell_type": "markdown",
    "tags": []
   },
   "source": [
    "We have included this section to allow you to interact with our model.\n",
    "\n",
    "You will be asked to input a series of details about a player (specifically their **performance metrics**), and the model will try to predict whether your given player is likely to be **nominated** or **not**.\n",
    "\n",
    "This model will be utilizing the **Random Forest Classifier**, as it has achieved the highest **F-score** out of all of our options."
   ]
  },
  {
   "cell_type": "code",
   "execution_count": null,
   "metadata": {
    "cell_id": "87a1d5f8adc149caa0afebf9a69d0eab",
    "deepnote_cell_height": 194.53125,
    "deepnote_cell_type": "code",
    "deepnote_to_be_reexecuted": false,
    "execution_millis": 59830,
    "execution_start": 1656838096518,
    "source_hash": "d3ada9f0",
    "tags": []
   },
   "outputs": [],
   "source": [
    "bestmodel = RandomForestClassifier(n_estimators = 1600, min_samples_split = 5, max_depth = 100, bootstrap = False)\n",
    "bestmodel.fit(allX, allY)"
   ]
  },
  {
   "cell_type": "code",
   "execution_count": null,
   "metadata": {
    "cell_id": "6188ce3b5fb547a6bb872620acebfda1",
    "deepnote_cell_height": 720.1875,
    "deepnote_cell_type": "code",
    "deepnote_to_be_reexecuted": false,
    "execution_millis": 22282,
    "execution_start": 1656839404066,
    "source_hash": "54539668",
    "tags": []
   },
   "outputs": [],
   "source": [
    "#Run this block to predict\n",
    "\n",
    "name = input(\"Input Name of Player: \")\n",
    "MIN = float(input(\"Input Average MIN of Player: \"))\n",
    "FGM = float(input(\"Input Average FGM of Player: \"))\n",
    "FG_PCT = float(input(\"Input Average FG_PCT of Player: \"))\n",
    "FG3M = float(input(\"Input Average FG3M of Player: \"))\n",
    "FG3A = float(input(\"Input Average FG3A of Player: \"))\n",
    "FTM = float(input(\"Input Average FTM of Player: \"))\n",
    "FTA = float(input(\"Input Average FTA of Player: \"))\n",
    "FT_PCT = float(input(\"Input Average FT_PCT of Player: \"))\n",
    "OREB = float(input(\"Input Average OREB of Player: \"))\n",
    "DREB = float(input(\"Input Average DREB of Player: \"))\n",
    "REB = float(input(\"Input Average REB of Player: \"))\n",
    "AST = float(input(\"Input Average AST of Player: \"))\n",
    "STL = float(input(\"Input Average STL of Player: \"))\n",
    "BLK = float(input(\"Input Average BLK of Player: \"))\n",
    "TO = float(input(\"Input Average TO of Player: \"))\n",
    "PF = float(input(\"Input Average PF of Player: \"))\n",
    "PTS = float(input(\"Input Average PTS of Player: \"))\n",
    "PLUS_MINUS = float(input(\"Input Average PLUS_MINUS of Player: \"))\n",
    "\n",
    "\n",
    "INPUT = [[MIN, FGM, FG_PCT, FG3M, FG3A, FTM, FTA, FT_PCT, OREB, DREB, REB, AST, STL, BLK, TO, PF, PTS, PLUS_MINUS]]\n",
    "print(INPUT)\n",
    "results = bestmodel.predict(INPUT)\n",
    "\n",
    "if results[0]:\n",
    "    print(name + \" is nominated\")\n",
    "\n",
    "else:\n",
    "    print(name + \" is not nominated\")\n"
   ]
  },
  {
   "cell_type": "markdown",
   "metadata": {
    "cell_id": "65afda77e7f142b8ba40c19fe9262be2",
    "deepnote_cell_type": "text-cell-h1",
    "formattedRanges": [],
    "is_collapsed": false,
    "tags": []
   },
   "source": [
    "# Insights and Conclusions"
   ]
  },
  {
   "cell_type": "markdown",
   "metadata": {
    "cell_id": "b55fe78192d04ad9bf7883b27ef632f0",
    "deepnote_cell_height": 496.421875,
    "deepnote_cell_type": "markdown",
    "tags": []
   },
   "source": [
    "- In some way, machine learning is able to “mimic” human judgement and behavior, depending on how the aforementioned relies on the same statistics and metrics that the model is subjected to.\n",
    "- There is no one singular approach to machine learning; it all depends on the context and nature of the data. This involves evaluating multiple models and comparing them with relevant metrics.\n",
    "- It is important to find patterns and correlations between the data and the labels. The relationships between these elements are what fuels the learning process in machine learning.\n",
    "- Regarding the results of our machine learning model, the predictions of NBA players to be nominated were more or less accurate as the finalists for each season, the top 3 players up for the award, are present in the list. With this, our model can't really predict the nominees in the middle of an NBA season, as there are many outliers that could affect the players who could be part of the list. Instead, it can be used to show who are currently excelling the league at a certain time, which of of course is not as prestigious as the MVP award. \n",
    "- It is also worth mentioning that during the initial testing of the data, the accuracy scores of the models used were very high sitting at the 90% range. This was due to the data being very skewed and making the F1 score a better metric for predictive performance.\n",
    "- In the results of some models, there have been players who have been predicted to be nominated but in fact are false positives. This is because in the actual voting process, the judges do not solely rely on who has the best stats, but also may rely on their personal biases.\n",
    "- Preprocessing is *very* important; it might be more important than some of the steps in some cases. The verity of the entire machine learning process is dependent on the form of the data presented to it.\n",
    "- Patience is key (especially in hyperparameter tuning).\n",
    "- Machine learning is both important *and* fun as it can provide predicitive insights of our common interests such as the main topic of this notebook, the NBA."
   ]
  },
  {
   "cell_type": "markdown",
   "metadata": {
    "cell_id": "b6e43fb66e4c40c6ac32171a0f39331f",
    "deepnote_cell_type": "text-cell-h2",
    "formattedRanges": [],
    "is_collapsed": false,
    "tags": []
   },
   "source": [
    "## Recommendations"
   ]
  },
  {
   "cell_type": "markdown",
   "metadata": {
    "cell_id": "6bb6e07013e5420181610bdafcf468d7",
    "deepnote_cell_height": 335.953125,
    "deepnote_cell_type": "markdown",
    "tags": []
   },
   "source": [
    "We recommend the following insights to further investigate more on the features of this project\n",
    "- To conduct feature oblation\n",
    "- To use other ensemble models\n",
    "- Try to combine or lessen the features/columns of the NBA players to find whether there are correlations of these columns to them being predicted to be nominated. It is also worth mentioning trying to add new features of the players since the model still does not predict perfectly.\n"
   ]
  },
  {
   "cell_type": "markdown",
   "metadata": {
    "cell_id": "2ae9aa4a962e45dea5b7087ea9c976bd",
    "deepnote_cell_type": "text-cell-p",
    "formattedRanges": [],
    "is_collapsed": false,
    "owner_user_id": "798f8e2f-672e-4866-9e4b-f46711d6bdb3",
    "tags": []
   },
   "source": []
  },
  {
   "cell_type": "markdown",
   "metadata": {
    "cell_id": "63a3ad15ac8444b3a64d29bf96fb911a",
    "deepnote_cell_type": "text-cell-h2",
    "formattedRanges": [],
    "is_collapsed": false,
    "tags": []
   },
   "source": [
    "## References"
   ]
  },
  {
   "cell_type": "markdown",
   "metadata": {
    "cell_id": "d921da4220b0480e960d464b04aa8d91",
    "deepnote_cell_height": 190.34375,
    "deepnote_cell_type": "markdown",
    "tags": []
   },
   "source": [
    "1. `https://www.knowledgehut.com/tutorials/machine-learning/hyperparameter-tuning-machine-learninghttps://stackoverflow.com/questions/39828535/how-to-tune-gaussiannb`\n",
    "\n",
    "2. `https://medium.datadriveninvestor.com/k-nearest-neighbors-in-python-hyperparameters-tuning-716734bc557f`\n",
    "\n",
    "3. `https://www.geeksforgeeks.org/svm-hyperparameter-tuning-using-gridsearchcv-ml/`\n",
    "\n",
    "4. `https://gist.github.com/statcompute/d97c42361a0a84e4ade02ed3fe667ca5https://www.section.io/engineering-education/hyperparmeter-tuning/`"
   ]
  }
 ],
 "metadata": {
  "deepnote": {},
  "deepnote_execution_queue": [],
  "deepnote_notebook_id": "21b311fd-b3dc-4dc2-a1df-50369ddd3fd9",
  "kernelspec": {
   "display_name": "Python 3",
   "language": "python",
   "name": "python3"
  },
  "language_info": {
   "codemirror_mode": {
    "name": "ipython",
    "version": 3
   },
   "file_extension": ".py",
   "mimetype": "text/x-python",
   "name": "python",
   "nbconvert_exporter": "python",
   "pygments_lexer": "ipython3",
   "version": "3.8.8"
  }
 },
 "nbformat": 4,
 "nbformat_minor": 4
}
